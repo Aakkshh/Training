{
 "cells": [
  {
   "cell_type": "markdown",
   "metadata": {},
   "source": [
    "Assignment 1"
   ]
  },
  {
   "cell_type": "code",
   "execution_count": 1,
   "metadata": {},
   "outputs": [
    {
     "name": "stdout",
     "output_type": "stream",
     "text": [
      "name: \"Alice\", age: 20, grades: [90, 85, 88]\n"
     ]
    }
   ],
   "source": [
    "class Student:\n",
    "    def __init__(self, name, age, grades):\n",
    "        self.name = name\n",
    "        self.age = age\n",
    "        self.grades = grades\n",
    "\n",
    "    def __str__(self):\n",
    "        return f'name: \"{self.name}\", age: {self.age}, grades: {self.grades}'\n",
    "\n",
    "# Example test case\n",
    "student = Student(name=\"Alice\", age=20, grades=[90, 85, 88])\n",
    "print(student)"
   ]
  },
  {
   "cell_type": "code",
   "execution_count": 2,
   "metadata": {},
   "outputs": [
    {
     "name": "stdout",
     "output_type": "stream",
     "text": [
      "Employee(name=\"John Doe\", position=\"Manager\", salary=75000)\n",
      "Employee(name=\"Jane Smith\", position=\"Engineer\", salary=80000)\n"
     ]
    }
   ],
   "source": [
    "class Employee:\n",
    "    def __init__(self, name, position, salary):\n",
    "        self.name = name\n",
    "        self.position = position\n",
    "        self.salary = salary\n",
    "\n",
    "    def __str__(self):\n",
    "        return f'Employee(name=\"{self.name}\", position=\"{self.position}\", salary={self.salary})'\n",
    "\n",
    "    @staticmethod\n",
    "    def from_list(data):\n",
    "        employees = []\n",
    "        for row in data:\n",
    "            name, position, salary = row\n",
    "            employees.append(Employee(name, position, salary))\n",
    "        return employees\n",
    "\n",
    "# Example test case\n",
    "csv_content = [\n",
    "    [\"John Doe\", \"Manager\", 75000],\n",
    "    [\"Jane Smith\", \"Engineer\", 80000]\n",
    "]\n",
    "\n",
    "employees = Employee.from_list(csv_content)\n",
    "for emp in employees:\n",
    "    print(emp)\n"
   ]
  },
  {
   "cell_type": "code",
   "execution_count": 1,
   "metadata": {},
   "outputs": [
    {
     "name": "stdout",
     "output_type": "stream",
     "text": [
      "Account Number: 12345678, Balance: 1000\n"
     ]
    }
   ],
   "source": [
    "class BankAccount:\n",
    "    def __init__(self, account_number, initial_balance):\n",
    "        self.account_number = account_number\n",
    "        self.balance = initial_balance\n",
    "\n",
    "    def deposit(self, amount):\n",
    "        if amount > 0:\n",
    "            self.balance += amount\n",
    "            return True\n",
    "        return False\n",
    "\n",
    "    def withdraw(self, amount):\n",
    "        if 0 < amount <= self.balance:\n",
    "            self.balance -= amount\n",
    "            return True\n",
    "        return False\n",
    "\n",
    "    def get_balance(self):\n",
    "        return self.balance\n",
    "\n",
    "    def __str__(self):\n",
    "        return f\"Account Number: {self.account_number}, Balance: {self.balance}\"\n",
    "\n",
    "\n",
    "\n",
    "account_number = \"12345678\"\n",
    "initial_balance = 1000\n",
    "account = BankAccount(account_number, initial_balance)\n",
    "\n",
    "print(account)  \n"
   ]
  },
  {
   "cell_type": "code",
   "execution_count": 2,
   "metadata": {},
   "outputs": [
    {
     "name": "stdout",
     "output_type": "stream",
     "text": [
      "Area: 15\n",
      "Perimeter: 16\n"
     ]
    }
   ],
   "source": [
    "class Rectangle:\n",
    "    def __init__(self, length, width):\n",
    "        self.length = length\n",
    "        self.width = width\n",
    "\n",
    "    def area(self):\n",
    "        return self.length * self.width\n",
    "\n",
    "    def perimeter(self):\n",
    "        return 2 * (self.length + self.width)\n",
    "\n",
    "    def __str__(self):\n",
    "        return f\"Length: {self.length}, Width: {self.width}, Area: {self.area()}, Perimeter: {self.perimeter()}\"\n",
    "\n",
    "length = 5\n",
    "width = 3\n",
    "rectangle = Rectangle(length, width)\n",
    "\n",
    "print(f\"Area: {rectangle.area()}\")        \n",
    "print(f\"Perimeter: {rectangle.perimeter()}\")  \n"
   ]
  },
  {
   "cell_type": "code",
   "execution_count": 3,
   "metadata": {},
   "outputs": [
    {
     "name": "stdout",
     "output_type": "stream",
     "text": [
      "Make: Toyota, Model: Camry, Year: 2020\n"
     ]
    }
   ],
   "source": [
    "class Car:\n",
    "    def __init__(self, make, model, year):\n",
    "        self.make = make\n",
    "        self.model = model\n",
    "        self.year = year\n",
    "\n",
    "    def __str__(self):\n",
    "        return f\"Make: {self.make}, Model: {self.model}, Year: {self.year}\"\n",
    "\n",
    "\n",
    "make = \"Toyota\"\n",
    "model = \"Camry\"\n",
    "year = 2020\n",
    "car = Car(make, model, year)\n",
    "\n",
    "print(car) \n"
   ]
  },
  {
   "cell_type": "code",
   "execution_count": 4,
   "metadata": {},
   "outputs": [
    {
     "name": "stdout",
     "output_type": "stream",
     "text": [
      "Name: John Doe, Age: 30, Address: 123 Main St\n"
     ]
    }
   ],
   "source": [
    "class Person:\n",
    "    def __init__(self, name, age, address):\n",
    "        self.name = name\n",
    "        self.age = age\n",
    "        self.address = address\n",
    "\n",
    "    def __str__(self):\n",
    "        return f\"Name: {self.name}, Age: {self.age}, Address: {self.address}\"\n",
    "\n",
    "\n",
    "name = \"John Doe\"\n",
    "age = 30\n",
    "address = \"123 Main St\"\n",
    "person = Person(name, age, address)\n",
    "\n",
    "print(person)  \n"
   ]
  },
  {
   "cell_type": "code",
   "execution_count": 5,
   "metadata": {},
   "outputs": [
    {
     "name": "stdout",
     "output_type": "stream",
     "text": [
      "Area: 50.27\n",
      "Circumference: 25.13\n"
     ]
    }
   ],
   "source": [
    "import math\n",
    "\n",
    "class Circle:\n",
    "    def __init__(self, radius):\n",
    "        self.radius = radius\n",
    "\n",
    "    def area(self):\n",
    "        return round(math.pi * self.radius ** 2, 2)\n",
    "\n",
    "    def circumference(self):\n",
    "        return round(2 * math.pi * self.radius, 2)\n",
    "\n",
    "    def __str__(self):\n",
    "        return f\"Radius: {self.radius}, Area: {self.area()}, Circumference: {self.circumference()}\"\n",
    "\n",
    "\n",
    "radius = 4\n",
    "circle = Circle(radius)\n",
    "\n",
    "print(f\"Area: {circle.area()}\")           \n",
    "print(f\"Circumference: {circle.circumference()}\") \n",
    "\n"
   ]
  },
  {
   "cell_type": "code",
   "execution_count": 8,
   "metadata": {},
   "outputs": [
    {
     "name": "stdout",
     "output_type": "stream",
     "text": [
      "Title: \"Inception\", Director: \"Christopher Nolan\", Rating: 8.8\n"
     ]
    }
   ],
   "source": [
    "class Movie:\n",
    "    def __init__(self, title, director, rating):\n",
    "        self.title = title\n",
    "        self.director = director\n",
    "        self.rating = rating\n",
    "\n",
    "    def __str__(self):\n",
    "        return f\"Title: \\\"{self.title}\\\", Director: \\\"{self.director}\\\", Rating: {self.rating}\"\n",
    "\n",
    "# Example Test Case\n",
    "title = \"Inception\"\n",
    "director = \"Christopher Nolan\"\n",
    "rating = 8.8\n",
    "movie = Movie(title, director, rating)\n",
    "\n",
    "print(movie)  \n"
   ]
  },
  {
   "cell_type": "code",
   "execution_count": 9,
   "metadata": {},
   "outputs": [
    {
     "name": "stdout",
     "output_type": "stream",
     "text": [
      "Circle(radius=4) area: 50.27, Circle(radius=4) perimeter: 25.13\n",
      "Square(side=5) area: 25, Square(side=5) perimeter: 20\n"
     ]
    }
   ],
   "source": [
    "import math\n",
    "\n",
    "class Shape:\n",
    "    def area(self):\n",
    "        raise NotImplementedError(\"Subclasses should implement this method\")\n",
    "\n",
    "    def perimeter(self):\n",
    "        raise NotImplementedError(\"Subclasses should implement this method\")\n",
    "\n",
    "class Circle(Shape):\n",
    "    def __init__(self, radius):\n",
    "        self.radius = radius\n",
    "\n",
    "    def area(self):\n",
    "        return round(math.pi * self.radius ** 2, 2)\n",
    "\n",
    "    def perimeter(self):\n",
    "        return round(2 * math.pi * self.radius, 2)\n",
    "\n",
    "    def __str__(self):\n",
    "        return f\"Circle(radius={self.radius})\"\n",
    "\n",
    "class Square(Shape):\n",
    "    def __init__(self, side):\n",
    "        self.side = side\n",
    "\n",
    "    def area(self):\n",
    "        return self.side ** 2\n",
    "\n",
    "    def perimeter(self):\n",
    "        return 4 * self.side\n",
    "\n",
    "    def __str__(self):\n",
    "        return f\"Square(side={self.side})\"\n",
    "\n",
    "\n",
    "circle = Circle(radius=4)\n",
    "square = Square(side=5)\n",
    "\n",
    "print(f\"{circle} area: {circle.area()}, {circle} perimeter: {circle.perimeter()}\")\n",
    "print(f\"{square} area: {square.area()}, {square} perimeter: {square.perimeter()}\")\n"
   ]
  },
  {
   "cell_type": "code",
   "execution_count": 10,
   "metadata": {},
   "outputs": [
    {
     "name": "stdout",
     "output_type": "stream",
     "text": [
      "Manager: John Doe, Department: Sales\n",
      "Engineer: Jane Smith, Field: Software\n"
     ]
    }
   ],
   "source": [
    "class Employee:\n",
    "    def __init__(self, name):\n",
    "        self.name = name\n",
    "\n",
    "    def __str__(self):\n",
    "        return f\"Employee: {self.name}\"\n",
    "\n",
    "class Manager(Employee):\n",
    "    def __init__(self, name, department):\n",
    "        super().__init__(name)\n",
    "        self.department = department\n",
    "\n",
    "    def __str__(self):\n",
    "        return f\"Manager: {self.name}, Department: {self.department}\"\n",
    "\n",
    "class Engineer(Employee):\n",
    "    def __init__(self, name, field):\n",
    "        super().__init__(name)\n",
    "        self.field = field\n",
    "\n",
    "    def __str__(self):\n",
    "        return f\"Engineer: {self.name}, Field: {self.field}\"\n",
    "\n",
    "# Example Test Case\n",
    "manager = Manager(name=\"John Doe\", department=\"Sales\")\n",
    "engineer = Engineer(name=\"Jane Smith\", field=\"Software\")\n",
    "\n",
    "print(manager)\n",
    "print(engineer) \n"
   ]
  },
  {
   "cell_type": "code",
   "execution_count": 11,
   "metadata": {},
   "outputs": [
    {
     "name": "stdout",
     "output_type": "stream",
     "text": [
      "Triangle(base=5, height=3) area: 7.5\n",
      "Rectangle(length=4, width=2) area: 8\n"
     ]
    }
   ],
   "source": [
    "class Shape:\n",
    "    def area(self):\n",
    "        raise NotImplementedError(\"Subclasses should implement this method\")\n",
    "\n",
    "    def __str__(self):\n",
    "        return f\"Shape\"\n",
    "\n",
    "class Triangle(Shape):\n",
    "    def __init__(self, base, height):\n",
    "        self.base = base\n",
    "        self.height = height\n",
    "\n",
    "    def area(self):\n",
    "        return round(0.5 * self.base * self.height, 2)\n",
    "\n",
    "    def __str__(self):\n",
    "        return f\"Triangle(base={self.base}, height={self.height})\"\n",
    "\n",
    "class Rectangle(Shape):\n",
    "    def __init__(self, length, width):\n",
    "        self.length = length\n",
    "        self.width = width\n",
    "\n",
    "    def area(self):\n",
    "        return self.length * self.width\n",
    "\n",
    "    def __str__(self):\n",
    "        return f\"Rectangle(length={self.length}, width={self.width})\"\n",
    "\n",
    "\n",
    "triangle = Triangle(base=5, height=3)\n",
    "rectangle = Rectangle(length=4, width=2)\n",
    "\n",
    "print(f\"{triangle} area: {triangle.area()}\")  \n",
    "print(f\"{rectangle} area: {rectangle.area()}\")  \n"
   ]
  },
  {
   "cell_type": "code",
   "execution_count": 12,
   "metadata": {},
   "outputs": [
    {
     "name": "stdout",
     "output_type": "stream",
     "text": [
      "Bird: Parrot, Can Fly: True\n",
      "Fish: Goldfish, Can Swim: True\n"
     ]
    }
   ],
   "source": [
    "class Animal:\n",
    "    def __init__(self, name):\n",
    "        self.name = name\n",
    "\n",
    "    def __str__(self):\n",
    "        return f\"Animal: {self.name}\"\n",
    "\n",
    "class Bird(Animal):\n",
    "    def __init__(self, name, can_fly):\n",
    "        super().__init__(name)\n",
    "        self.can_fly = can_fly\n",
    "\n",
    "    def __str__(self):\n",
    "        return f\"Bird: {self.name}, Can Fly: {self.can_fly}\"\n",
    "\n",
    "class Fish(Animal):\n",
    "    def __init__(self, name, can_swim):\n",
    "        super().__init__(name)\n",
    "        self.can_swim = can_swim\n",
    "\n",
    "    def __str__(self):\n",
    "        return f\"Fish: {self.name}, Can Swim: {self.can_swim}\"\n",
    "\n",
    "\n",
    "bird = Bird(name=\"Parrot\", can_fly=True)\n",
    "fish = Fish(name=\"Goldfish\", can_swim=True)\n",
    "\n",
    "print(bird)  \n",
    "print(fish)  \n"
   ]
  },
  {
   "cell_type": "code",
   "execution_count": 13,
   "metadata": {},
   "outputs": [
    {
     "name": "stdout",
     "output_type": "stream",
     "text": [
      "Car: Toyota Camry\n",
      "Bike: Yamaha MT-07\n"
     ]
    }
   ],
   "source": [
    "class Vehicle:\n",
    "    def __init__(self, make, model):\n",
    "        self.make = make\n",
    "        self.model = model\n",
    "\n",
    "    def __str__(self):\n",
    "        return f\"{self.__class__.__name__}: {self.make} {self.model}\"\n",
    "\n",
    "class Car(Vehicle):\n",
    "    def __init__(self, make, model):\n",
    "        super().__init__(make, model)\n",
    "\n",
    "class Bike(Vehicle):\n",
    "    def __init__(self, make, model):\n",
    "        super().__init__(make, model)\n",
    "\n",
    "class Truck(Vehicle):\n",
    "    def __init__(self, make, model):\n",
    "        super().__init__(make, model)\n",
    "\n",
    "\n",
    "car = Car(make=\"Toyota\", model=\"Camry\")\n",
    "bike = Bike(make=\"Yamaha\", model=\"MT-07\")\n",
    "\n",
    "print(car)  \n",
    "print(bike)  \n"
   ]
  },
  {
   "cell_type": "code",
   "execution_count": 15,
   "metadata": {},
   "outputs": [
    {
     "name": "stdout",
     "output_type": "stream",
     "text": [
      "username: john_doe, password: ******\n"
     ]
    }
   ],
   "source": [
    "class User:\n",
    "    def __init__(self, username, password):\n",
    "        self.username = username\n",
    "        self.__password = password  \n",
    "    def get_password(self):\n",
    "       \n",
    "        return \"******\"\n",
    "\n",
    "    def set_password(self, new_password):\n",
    "       \n",
    "        if len(new_password) >= 6: \n",
    "            self.__password = new_password\n",
    "        else:\n",
    "            raise ValueError(\"Password must be at least 6 characters long\")\n",
    "\n",
    "    def __str__(self):\n",
    "        return f\"username: {self.username}, password: {self.get_password()}\"\n",
    "\n",
    "\n",
    "user = User(username=\"john_doe\", password=\"secure123\")\n",
    "\n",
    "print(user)  \n"
   ]
  },
  {
   "cell_type": "markdown",
   "metadata": {},
   "source": [
    "Class definition and Object instantiation\n"
   ]
  },
  {
   "cell_type": "code",
   "execution_count": 16,
   "metadata": {},
   "outputs": [
    {
     "name": "stdout",
     "output_type": "stream",
     "text": [
      "Name: \"City Library\", Address: \"123 Main St\", Books: ['Book2']\n"
     ]
    }
   ],
   "source": [
    "class Library:\n",
    "    def __init__(self, name, address):\n",
    "        self.name = name\n",
    "        self.address = address\n",
    "        self.books = []\n",
    "\n",
    "    def add_book(self, book_title):\n",
    "        if book_title not in self.books:\n",
    "            self.books.append(book_title)\n",
    "        else:\n",
    "            print(f\"The book '{book_title}' is already in the library.\")\n",
    "\n",
    "    def remove_book(self, book_title):\n",
    "        if book_title in self.books:\n",
    "            self.books.remove(book_title)\n",
    "        else:\n",
    "            print(f\"The book '{book_title}' is not found in the library.\")\n",
    "\n",
    "    def __str__(self):\n",
    "        return f\"Name: \\\"{self.name}\\\", Address: \\\"{self.address}\\\", Books: {self.books}\"\n",
    "\n",
    "\n",
    "library = Library(name=\"City Library\", address=\"123 Main St\")\n",
    "\n",
    "library.add_book(\"Book1\")\n",
    "library.add_book(\"Book2\")\n",
    "library.remove_book(\"Book1\")\n",
    "\n",
    "print(library)  \n"
   ]
  },
  {
   "cell_type": "code",
   "execution_count": 17,
   "metadata": {},
   "outputs": [
    {
     "name": "stdout",
     "output_type": "stream",
     "text": [
      "Address: \"456 Elm St\", Number of Rooms: 4, Price: 350000\n"
     ]
    }
   ],
   "source": [
    "class House:\n",
    "    def __init__(self, address, num_rooms, price):\n",
    "        self.address = address\n",
    "        self.num_rooms = num_rooms\n",
    "        self.price = price\n",
    "\n",
    "    def display_details(self):\n",
    "        print(f\"Address: \\\"{self.address}\\\", Number of Rooms: {self.num_rooms}, Price: {self.price}\")\n",
    "\n",
    "\n",
    "house = House(address=\"456 Elm St\", num_rooms=4, price=350000)\n",
    "\n",
    "house.display_details() "
   ]
  },
  {
   "cell_type": "code",
   "execution_count": 18,
   "metadata": {},
   "outputs": [
    {
     "name": "stdout",
     "output_type": "stream",
     "text": [
      "Title: \"Python 101\", Author: \"John Doe\", Price: 26.99\n"
     ]
    }
   ],
   "source": [
    "class Book:\n",
    "    def __init__(self, title, author, price):\n",
    "        self.title = title\n",
    "        self.author = author\n",
    "        self.price = price\n",
    "\n",
    "    def discount(self, discount_rate):\n",
    "        # Apply discount to the price\n",
    "        if 0 <= discount_rate <= 1:\n",
    "            self.price -= self.price * discount_rate\n",
    "            self.price = round(self.price, 2)  # Round to 2 decimal places\n",
    "        else:\n",
    "            print(\"Discount rate must be between 0 and 1.\")\n",
    "\n",
    "    def display_details(self):\n",
    "        # Display the details of the book\n",
    "        print(f\"Title: \\\"{self.title}\\\", Author: \\\"{self.author}\\\", Price: {self.price}\")\n",
    "\n",
    "# Example Test Case\n",
    "book = Book(title=\"Python 101\", author=\"John Doe\", price=29.99)\n",
    "\n",
    "book.discount(0.1)  \n",
    "book.display_details()  \n"
   ]
  },
  {
   "cell_type": "code",
   "execution_count": 19,
   "metadata": {},
   "outputs": [
    {
     "name": "stdout",
     "output_type": "stream",
     "text": [
      "Name: \"Sushi Place\", Cuisine Type: \"Japanese\", Rating: 4.8\n"
     ]
    }
   ],
   "source": [
    "class Restaurant:\n",
    "    def __init__(self, name, cuisine_type, rating):\n",
    "        self.name = name\n",
    "        self.cuisine_type = cuisine_type\n",
    "        self.rating = rating\n",
    "\n",
    "    def update_rating(self, new_rating):\n",
    "        # Update the rating if it is a valid number between 0 and 5\n",
    "        if 0 <= new_rating <= 5:\n",
    "            self.rating = new_rating\n",
    "        else:\n",
    "            print(\"Rating must be between 0 and 5.\")\n",
    "\n",
    "    def display_details(self):\n",
    "        # Display the details of the restaurant\n",
    "        print(f\"Name: \\\"{self.name}\\\", Cuisine Type: \\\"{self.cuisine_type}\\\", Rating: {self.rating}\")\n",
    "\n",
    "# Example Test Case\n",
    "restaurant = Restaurant(name=\"Sushi Place\", cuisine_type=\"Japanese\", rating=4.5)\n",
    "\n",
    "restaurant.update_rating(4.8)  \n",
    "\n",
    "restaurant.display_details()  \n"
   ]
  },
  {
   "cell_type": "code",
   "execution_count": 20,
   "metadata": {},
   "outputs": [
    {
     "name": "stdout",
     "output_type": "stream",
     "text": [
      "Name: \"Greenwood High\", Students: 350, Total Students: 350\n"
     ]
    }
   ],
   "source": [
    "class School:\n",
    "    total_students = 0  # Class variable to keep track of the total number of students\n",
    "\n",
    "    def __init__(self, name, students):\n",
    "        self.name = name\n",
    "        self.students = students\n",
    "        School.total_students += students  # Initialize total_students with the current students\n",
    "\n",
    "    def enroll_students(self, number_of_students):\n",
    "        self.students += number_of_students\n",
    "        School.total_students += number_of_students\n",
    "\n",
    "    def display_details(self):\n",
    "        print(f\"Name: \\\"{self.name}\\\", Students: {self.students}, Total Students: {School.total_students}\")\n",
    "\n",
    "# Example Test Case\n",
    "school = School(name=\"Greenwood High\", students=300)\n",
    "\n",
    "school.enroll_students(50) \n",
    "\n",
    "school.display_details()  \n"
   ]
  },
  {
   "cell_type": "code",
   "execution_count": 21,
   "metadata": {},
   "outputs": [
    {
     "name": "stdout",
     "output_type": "stream",
     "text": [
      "Name: \"TechCorp\", Number of Employees: 220, Industry: Technology\n"
     ]
    }
   ],
   "source": [
    "class Company:\n",
    "    industry = \"Technology\"  # Class variable to represent the industry\n",
    "\n",
    "    def __init__(self, name, num_employees):\n",
    "        self.name = name\n",
    "        self.num_employees = num_employees\n",
    "\n",
    "    def update_employees(self, new_num_employees):\n",
    "        self.num_employees = new_num_employees\n",
    "\n",
    "    def display_details(self):\n",
    "        print(f\"Name: \\\"{self.name}\\\", Number of Employees: {self.num_employees}, Industry: {Company.industry}\")\n",
    "\n",
    "# Example Test Case\n",
    "company = Company(name=\"TechCorp\", num_employees=200)\n",
    "\n",
    "company.update_employees(220)  \n",
    "\n",
    "company.display_details()  \n"
   ]
  },
  {
   "cell_type": "code",
   "execution_count": 22,
   "metadata": {},
   "outputs": [
    {
     "name": "stdout",
     "output_type": "stream",
     "text": [
      "True\n"
     ]
    }
   ],
   "source": [
    "class MathUtils:\n",
    "    @staticmethod\n",
    "    def is_prime(number):\n",
    "        # Handle edge cases\n",
    "        if number <= 1:\n",
    "            return False\n",
    "        if number <= 3:\n",
    "            return True\n",
    "        if number % 2 == 0 or number % 3 == 0:\n",
    "            return False\n",
    "        \n",
    "        # Check divisibility from 5 to sqrt(number)\n",
    "        i = 5\n",
    "        while i * i <= number:\n",
    "            if number % i == 0 or number % (i + 2) == 0:\n",
    "                return False\n",
    "            i += 6\n",
    "        \n",
    "        return True\n",
    "\n",
    "# Example Test Case\n",
    "number = 17\n",
    "result = MathUtils.is_prime(number)\n",
    "\n",
    "print(result) \n"
   ]
  },
  {
   "cell_type": "code",
   "execution_count": 23,
   "metadata": {},
   "outputs": [
    {
     "name": "stdout",
     "output_type": "stream",
     "text": [
      "77.0\n"
     ]
    }
   ],
   "source": [
    "class TemperatureConverter:\n",
    "    @staticmethod\n",
    "    def celsius_to_fahrenheit(celsius):\n",
    "        # Convert Celsius to Fahrenheit using the formula: (C * 9/5) + 32\n",
    "        return (celsius * 9/5) + 32\n",
    "\n",
    "# Example Test Case\n",
    "celsius = 25\n",
    "fahrenheit = TemperatureConverter.celsius_to_fahrenheit(celsius)\n",
    "\n",
    "print(fahrenheit) \n"
   ]
  },
  {
   "cell_type": "code",
   "execution_count": 24,
   "metadata": {},
   "outputs": [
    {
     "name": "stdout",
     "output_type": "stream",
     "text": [
      "name: \"Alice\", salary: 70000, programming_language: \"Python\"\n"
     ]
    }
   ],
   "source": [
    "class Employee:\n",
    "    def __init__(self, name, salary):\n",
    "        self.name = name\n",
    "        self.salary = salary\n",
    "\n",
    "    def display_details(self):\n",
    "        return f\"name: \\\"{self.name}\\\", salary: {self.salary}\"\n",
    "\n",
    "class Developer(Employee):\n",
    "    def __init__(self, name, salary, programming_language):\n",
    "        super().__init__(name, salary)\n",
    "        self.programming_language = programming_language\n",
    "\n",
    "    def display_details(self):\n",
    "        # Call the base class method and add programming_language details\n",
    "        base_details = super().display_details()\n",
    "        return f\"{base_details}, programming_language: \\\"{self.programming_language}\\\"\"\n",
    "\n",
    "# Example Test Case\n",
    "developer = Developer(name=\"Alice\", salary=70000, programming_language=\"Python\")\n",
    "\n",
    "print(developer.display_details())  \n"
   ]
  },
  {
   "cell_type": "code",
   "execution_count": 25,
   "metadata": {},
   "outputs": [
    {
     "name": "stdout",
     "output_type": "stream",
     "text": [
      "Appliance is turned on\n",
      "Washing Machine LG is turned on\n"
     ]
    }
   ],
   "source": [
    "class Appliance:\n",
    "    def turn_on(self):\n",
    "        return \"Appliance is turned on\"\n",
    "\n",
    "class WashingMachine(Appliance):\n",
    "    def __init__(self, model):\n",
    "        self.model = model\n",
    "\n",
    "    def turn_on(self):\n",
    "        return f\"Washing Machine {self.model} is turned on\"\n",
    "\n",
    "# Example Test Case\n",
    "appliance = Appliance()\n",
    "washing_machine = WashingMachine(model=\"LG\")\n",
    "\n",
    "print(appliance.turn_on())  \n",
    "print(washing_machine.turn_on())  \n"
   ]
  },
  {
   "cell_type": "code",
   "execution_count": 26,
   "metadata": {},
   "outputs": [
    {
     "name": "stdout",
     "output_type": "stream",
     "text": [
      "Username: user1\n",
      "Password: pass123\n",
      "Updated Password: newpass123\n"
     ]
    }
   ],
   "source": [
    "class PrivateData:\n",
    "    def __init__(self, username, password):\n",
    "        self.__username = username  # Private attribute\n",
    "        self.__password = password  # Private attribute\n",
    "\n",
    "    # Getter for username\n",
    "    def get_username(self):\n",
    "        return self.__username\n",
    "\n",
    "    # Setter for username\n",
    "    def set_username(self, username):\n",
    "        self.__username = username\n",
    "\n",
    "    # Getter for password\n",
    "    def get_password(self):\n",
    "        return self.__password\n",
    "\n",
    "    # Setter for password\n",
    "    def set_password(self, password):\n",
    "        self.__password = password\n",
    "\n",
    "# Example Test Case\n",
    "data = PrivateData(username=\"user1\", password=\"pass123\")\n",
    "\n",
    "# Get the username and password\n",
    "print(f\"Username: {data.get_username()}\")  # Output: Username: user1\n",
    "print(f\"Password: {data.get_password()}\")  # Output: Password: pass123\n",
    "\n",
    "\n",
    "data.set_password(\"newpass123\")\n",
    "\n",
    "\n",
    "print(f\"Updated Password: {data.get_password()}\")  \n"
   ]
  },
  {
   "cell_type": "code",
   "execution_count": 27,
   "metadata": {},
   "outputs": [
    {
     "name": "stdout",
     "output_type": "stream",
     "text": [
      "Account Number: 987654321, Balance: 4500\n"
     ]
    }
   ],
   "source": [
    "class Account:\n",
    "    def __init__(self, account_number, balance):\n",
    "        self.__account_number = account_number  # Private attribute\n",
    "        self.__balance = balance  # Private attribute\n",
    "\n",
    "    # Method to deposit money into the account\n",
    "    def deposit(self, amount):\n",
    "        if amount > 0:\n",
    "            self.__balance += amount\n",
    "        else:\n",
    "            print(\"Deposit amount must be positive.\")\n",
    "\n",
    "    # Method to withdraw money from the account\n",
    "    def withdraw(self, amount):\n",
    "        if amount > 0:\n",
    "            if amount <= self.__balance:\n",
    "                self.__balance -= amount\n",
    "            else:\n",
    "                print(\"Insufficient funds.\")\n",
    "        else:\n",
    "            print(\"Withdrawal amount must be positive.\")\n",
    "\n",
    "    # Method to get the current balance\n",
    "    def get_balance(self):\n",
    "        return self.__balance\n",
    "\n",
    "    # Method to get the account number\n",
    "    def get_account_number(self):\n",
    "        return self.__account_number\n",
    "\n",
    "# Example Test Case\n",
    "account = Account(account_number=\"987654321\", balance=5000)\n",
    "\n",
    "# Deposit money\n",
    "account.deposit(1500)\n",
    "\n",
    "# Withdraw money\n",
    "account.withdraw(2000)\n",
    "\n",
    "# Get the current balance\n",
    "balance = account.get_balance()\n",
    "\n",
    "print(f\"Account Number: {account.get_account_number()}, Balance: {balance}\")\n",
    "# Output: Account Number: 987654321, Balance: 4500\n"
   ]
  },
  {
   "cell_type": "code",
   "execution_count": 28,
   "metadata": {},
   "outputs": [
    {
     "name": "stdout",
     "output_type": "stream",
     "text": [
      "Toyota is driving\n",
      "Yamaha is riding\n"
     ]
    }
   ],
   "source": [
    "class Car:\n",
    "    def __init__(self, model):\n",
    "        self.model = model\n",
    "\n",
    "    def move(self):\n",
    "        return f\"{self.model} is driving\"\n",
    "\n",
    "class Bike:\n",
    "    def __init__(self, model):\n",
    "        self.model = model\n",
    "\n",
    "    def move(self):\n",
    "        return f\"{self.model} is riding\"\n",
    "\n",
    "def operate_vehicle(vehicle):\n",
    "    # Call the move method of the vehicle object\n",
    "    print(vehicle.move())\n",
    "\n",
    "# Example Test Case\n",
    "car = Car(model=\"Toyota\")\n",
    "bike = Bike(model=\"Yamaha\")\n",
    "\n",
    "# Operate the vehicles\n",
    "operate_vehicle(car)  \n",
    "operate_vehicle(bike) \n"
   ]
  },
  {
   "cell_type": "code",
   "execution_count": 29,
   "metadata": {},
   "outputs": [
    {
     "name": "stdout",
     "output_type": "stream",
     "text": [
      "Dell is operating\n",
      "iPhone is operating\n"
     ]
    }
   ],
   "source": [
    "class Laptop:\n",
    "    def __init__(self, model):\n",
    "        self.model = model\n",
    "\n",
    "    def operate(self):\n",
    "        return f\"{self.model} is operating\"\n",
    "\n",
    "class Smartphone:\n",
    "    def __init__(self, model):\n",
    "        self.model = model\n",
    "\n",
    "    def operate(self):\n",
    "        return f\"{self.model} is operating\"\n",
    "\n",
    "def operate_device(device):\n",
    "    # Call the operate method of the device object\n",
    "    print(device.operate())\n",
    "\n",
    "# Example Test Case\n",
    "laptop = Laptop(model=\"Dell\")\n",
    "smartphone = Smartphone(model=\"iPhone\")\n",
    "\n",
    "# Operate the devices\n",
    "operate_device(laptop)  \n",
    "operate_device(smartphone) \n"
   ]
  },
  {
   "cell_type": "code",
   "execution_count": 30,
   "metadata": {},
   "outputs": [
    {
     "name": "stdout",
     "output_type": "stream",
     "text": [
      "Bus 10A is traveling\n",
      "Train Express is traveling\n"
     ]
    }
   ],
   "source": [
    "from abc import ABC, abstractmethod\n",
    "\n",
    "class Transport(ABC):\n",
    "    def __init__(self, route):\n",
    "        self.route = route\n",
    "\n",
    "    @abstractmethod\n",
    "    def travel(self):\n",
    "        pass\n",
    "\n",
    "class Bus(Transport):\n",
    "    def travel(self):\n",
    "        return f\"Bus {self.route} is traveling\"\n",
    "\n",
    "class Train(Transport):\n",
    "    def travel(self):\n",
    "        return f\"Train {self.route} is traveling\"\n",
    "\n",
    "# Example Test Case\n",
    "bus = Bus(route=\"10A\")\n",
    "train = Train(route=\"Express\")\n",
    "\n",
    "# Call the travel method for each instance\n",
    "print(bus.travel())  # Output: Bus 10A is traveling\n",
    "print(train.travel())  # Output: Train Express is traveling\n"
   ]
  },
  {
   "cell_type": "code",
   "execution_count": 31,
   "metadata": {},
   "outputs": [
    {
     "name": "stdout",
     "output_type": "stream",
     "text": [
      "Processing credit card payment for 1234\n",
      "Processing PayPal payment for user@example.com\n"
     ]
    }
   ],
   "source": [
    "from abc import ABC, abstractmethod\n",
    "\n",
    "class Payment(ABC):\n",
    "    @abstractmethod\n",
    "    def process(self):\n",
    "        pass\n",
    "\n",
    "class CreditCard(Payment):\n",
    "    def __init__(self, number):\n",
    "        self.number = number\n",
    "\n",
    "    def process(self):\n",
    "        return f\"Processing credit card payment for {self.number}\"\n",
    "\n",
    "class PayPal(Payment):\n",
    "    def __init__(self, account):\n",
    "        self.account = account\n",
    "\n",
    "    def process(self):\n",
    "        return f\"Processing PayPal payment for {self.account}\"\n",
    "\n",
    "# Example Test Case\n",
    "credit_card = CreditCard(number=\"1234\")\n",
    "paypal = PayPal(account=\"user@example.com\")\n",
    "\n",
    "# Call the process method for each instance\n",
    "print(credit_card.process())  \n",
    "print(paypal.process())       \n"
   ]
  }
 ],
 "metadata": {
  "kernelspec": {
   "display_name": "Python 3",
   "language": "python",
   "name": "python3"
  },
  "language_info": {
   "codemirror_mode": {
    "name": "ipython",
    "version": 3
   },
   "file_extension": ".py",
   "mimetype": "text/x-python",
   "name": "python",
   "nbconvert_exporter": "python",
   "pygments_lexer": "ipython3",
   "version": "3.12.4"
  }
 },
 "nbformat": 4,
 "nbformat_minor": 2
}

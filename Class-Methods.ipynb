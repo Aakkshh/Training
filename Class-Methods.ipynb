{
 "cells": [
  {
   "cell_type": "code",
   "execution_count": 1,
   "metadata": {},
   "outputs": [
    {
     "name": "stdout",
     "output_type": "stream",
     "text": [
      "Initial values - email: email@email.com, password: 1234\n",
      "Updated values - email: email@email.com, password: abcd\n"
     ]
    }
   ],
   "source": [
    "class User:\n",
    "    def __init__(self, username, email, password):\n",
    "        self.username = username\n",
    "        self.email = email\n",
    "        self.password = password\n",
    "    \n",
    "    def update_email(self, new_email):\n",
    "        self.email = new_email\n",
    "    \n",
    "    def update_password(self, new_password):\n",
    "        self.password = new_password\n",
    "\n",
    "# Example usage:\n",
    "if __name__ == \"__main__\":\n",
    "    # Create a user object\n",
    "    user = User(username=\"username\", email=\"email@email.com\", password=\"1234\")\n",
    "    \n",
    "    # Print initial values\n",
    "    print(f\"Initial values - email: {user.email}, password: {user.password}\")\n",
    "    \n",
    "    # Update email and password\n",
    "    user.update_email(\"email@email.com\")\n",
    "    user.update_password(\"abcd\")\n",
    "    \n",
    "    # Print updated values\n",
    "    print(f\"Updated values - email: {user.email}, password: {user.password}\")\n"
   ]
  },
  {
   "cell_type": "code",
   "execution_count": 2,
   "metadata": {},
   "outputs": [
    {
     "name": "stdout",
     "output_type": "stream",
     "text": [
      "Initial values - score: 0, health: 100\n",
      "Updated values - score: 10, health: 90\n"
     ]
    }
   ],
   "source": [
    "class Player:\n",
    "    def __init__(self, name, score, health):\n",
    "        self.name = name\n",
    "        self.score = score\n",
    "        self.health = health\n",
    "    \n",
    "    def increase_score(self, points):\n",
    "        self.score += points\n",
    "    \n",
    "    def decrease_health(self, damage):\n",
    "        self.health -= damage\n",
    "    \n",
    "    def heal(self, amount):\n",
    "        self.health += amount\n",
    "\n",
    "# Example usage:\n",
    "if __name__ == \"__main__\":\n",
    "    # Create a player object\n",
    "    player = Player(name=\"Player1\", score=0, health=100)\n",
    "    \n",
    "    # Print initial values\n",
    "    print(f\"Initial values - score: {player.score}, health: {player.health}\")\n",
    "    \n",
    "    # Perform actions on the player\n",
    "    player.increase_score(10)\n",
    "    player.decrease_health(20)\n",
    "    player.heal(10)\n",
    "    \n",
    "    # Print updated values\n",
    "    print(f\"Updated values - score: {player.score}, health: {player.health}\")\n",
    "\n"
   ]
  },
  {
   "cell_type": "code",
   "execution_count": 3,
   "metadata": {},
   "outputs": [
    {
     "name": "stdout",
     "output_type": "stream",
     "text": [
      "Initial balance: 1000\n",
      "Deposited 500. New balance: 1500\n",
      "Withdrew 200. New balance: 1300\n",
      "Withdrawal of 1500 failed. Insufficient balance.\n",
      "Final balance: 1300\n"
     ]
    }
   ],
   "source": [
    "class BankAccount:\n",
    "    def __init__(self, account_number, balance):\n",
    "        self.account_number = account_number\n",
    "        self.balance = balance\n",
    "    \n",
    "    def deposit(self, amount):\n",
    "        self.balance += amount\n",
    "        print(f\"Deposited {amount}. New balance: {self.balance}\")\n",
    "    \n",
    "    def withdraw(self, amount):\n",
    "        if amount > self.balance:\n",
    "            print(f\"Withdrawal of {amount} failed. Insufficient balance.\")\n",
    "        else:\n",
    "            self.balance -= amount\n",
    "            print(f\"Withdrew {amount}. New balance: {self.balance}\")\n",
    "\n",
    "# Example usage:\n",
    "if __name__ == \"__main__\":\n",
    "    # Create a bank account object\n",
    "    account = BankAccount(account_number=\"12345678\", balance=1000)\n",
    "    \n",
    "    # Print initial balance\n",
    "    print(f\"Initial balance: {account.balance}\")\n",
    "    \n",
    "    # Perform transactions\n",
    "    account.deposit(500)\n",
    "    account.withdraw(200)\n",
    "    account.withdraw(1500)  # This withdrawal should fail\n",
    "    \n",
    "    # Print final balance\n",
    "    print(f\"Final balance: {account.balance}\")\n"
   ]
  },
  {
   "cell_type": "markdown",
   "metadata": {},
   "source": [
    "Class Method "
   ]
  },
  {
   "cell_type": "code",
   "execution_count": 4,
   "metadata": {},
   "outputs": [
    {
     "name": "stdout",
     "output_type": "stream",
     "text": [
      "Initial connections: 0\n",
      "Connection added. Total connections: 1\n",
      "Updated connections: 1\n"
     ]
    }
   ],
   "source": [
    "class Database:\n",
    "    connections = 0  # Class variable to track active connections\n",
    "    \n",
    "    @classmethod\n",
    "    def add_connection(cls):\n",
    "        cls.connections += 1\n",
    "        print(f\"Connection added. Total connections: {cls.connections}\")\n",
    "\n",
    "# Example usage:\n",
    "if __name__ == \"__main__\":\n",
    "    # Print initial connections\n",
    "    print(f\"Initial connections: {Database.connections}\")\n",
    "    \n",
    "    # Add a connection\n",
    "    Database.add_connection()\n",
    "    \n",
    "    # Print updated connections\n",
    "    print(f\"Updated connections: {Database.connections}\")\n"
   ]
  },
  {
   "cell_type": "code",
   "execution_count": null,
   "metadata": {},
   "outputs": [],
   "source": [
    "class Pizza:\n",
    "    def __init__(self, name, ingredients):\n",
    "        self.name = name\n",
    "        self.ingredients = ingredients\n",
    "    \n",
    "    @classmethod\n",
    "    def create_margherita(cls):\n",
    "        return cls(name=\"Margherita\", ingredients=[\"cheese\", \"tomato\"])\n",
    "    \n",
    "    @classmethod\n",
    "    def create_pepperoni(cls):\n",
    "        return cls(name=\"Pepperoni\", ingredients=[\"cheese\", \"pepperoni\"])\n",
    "\n",
    "# Example usage:\n",
    "if __name__ == \"__main__\":\n",
    "    \n",
    "    margherita = Pizza.create_margherita()\n",
    "    print(f\"Margherita Pizza - Name: {margherita.name}, Ingredients: {margherita.ingredients}\")\n",
    "    \n",
    "\n",
    "    pepperoni = Pizza.create_pepperoni()\n",
    "    print(f\"Pepperoni Pizza - Name: {pepperoni.name}, Ingredients: {pepperoni.ingredients}\")\n"
   ]
  },
  {
   "cell_type": "code",
   "execution_count": 5,
   "metadata": {},
   "outputs": [
    {
     "name": "stdout",
     "output_type": "stream",
     "text": [
      "Initial total books: 0\n",
      "Added 5 books. Total books now: 5\n",
      "Total books in the library: 5\n"
     ]
    }
   ],
   "source": [
    "class Library:\n",
    "    total_books = 0  # Class variable to track total number of books in the library\n",
    "    \n",
    "    @classmethod\n",
    "    def add_book(cls, count):\n",
    "        cls.total_books += count\n",
    "        print(f\"Added {count} books. Total books now: {cls.total_books}\")\n",
    "    \n",
    "    @classmethod\n",
    "    def get_total_books(cls):\n",
    "        print(f\"Total books in the library: {cls.total_books}\")\n",
    "        return cls.total_books\n",
    "\n",
    "# Example usage:\n",
    "if __name__ == \"__main__\":\n",
    "    # Print initial total_books count\n",
    "    print(f\"Initial total books: {Library.total_books}\")\n",
    "    \n",
    "    # Add books to the library\n",
    "    Library.add_book(5)\n",
    "    \n",
    "    # Get current total_books count\n",
    "    Library.get_total_books()\n"
   ]
  },
  {
   "cell_type": "code",
   "execution_count": null,
   "metadata": {},
   "outputs": [],
   "source": []
  },
  {
   "cell_type": "code",
   "execution_count": 6,
   "metadata": {},
   "outputs": [
    {
     "name": "stdout",
     "output_type": "stream",
     "text": [
      "add = 15, subtract = 5, multiply = 50, divide = 2.0\n"
     ]
    }
   ],
   "source": [
    "class Calculator:\n",
    "    @staticmethod\n",
    "    def add(a, b):\n",
    "        return a + b\n",
    "    \n",
    "    @staticmethod\n",
    "    def subtract(a, b):\n",
    "        return a - b\n",
    "    \n",
    "    @staticmethod\n",
    "    def multiply(a, b):\n",
    "        return a * b\n",
    "    \n",
    "    @staticmethod\n",
    "    def divide(a, b):\n",
    "        if b == 0:\n",
    "            raise ValueError(\"Cannot divide by zero\")\n",
    "        return a / b\n",
    "\n",
    "# Example usage:\n",
    "if __name__ == \"__main__\":\n",
    "    a = 10\n",
    "    b = 5\n",
    "    \n",
    "    # Perform arithmetic operations using static methods\n",
    "    add_result = Calculator.add(a, b)\n",
    "    subtract_result = Calculator.subtract(a, b)\n",
    "    multiply_result = Calculator.multiply(a, b)\n",
    "    divide_result = Calculator.divide(a, b)\n",
    "    \n",
    "    # Print results\n",
    "    print(f\"add = {add_result}, subtract = {subtract_result}, multiply = {multiply_result}, divide = {divide_result}\")\n"
   ]
  },
  {
   "cell_type": "code",
   "execution_count": 7,
   "metadata": {},
   "outputs": [
    {
     "name": "stdout",
     "output_type": "stream",
     "text": [
      "Reversed string: racecar\n",
      "Is palindrome: True\n"
     ]
    }
   ],
   "source": [
    "class StringUtils:\n",
    "    @staticmethod\n",
    "    def reverse_string(string):\n",
    "        return string[::-1]\n",
    "    \n",
    "    @staticmethod\n",
    "    def is_palindrome(string):\n",
    "        reversed_string = StringUtils.reverse_string(string)\n",
    "        return string == reversed_string\n",
    "\n",
    "# Example usage:\n",
    "if __name__ == \"__main__\":\n",
    "    input_string = \"racecar\"\n",
    "    \n",
    "    # Reverse the string\n",
    "    reversed_string = StringUtils.reverse_string(input_string)\n",
    "    print(f\"Reversed string: {reversed_string}\")\n",
    "    \n",
    "    # Check if the string is a palindrome\n",
    "    palindrome_check = StringUtils.is_palindrome(input_string)\n",
    "    print(f\"Is palindrome: {palindrome_check}\")\n"
   ]
  },
  {
   "cell_type": "code",
   "execution_count": 8,
   "metadata": {},
   "outputs": [
    {
     "name": "stdout",
     "output_type": "stream",
     "text": [
      "Is leap year: True\n",
      "Days in month 2 of year 2020: 29\n"
     ]
    }
   ],
   "source": [
    "class DateUtils:\n",
    "    @staticmethod\n",
    "    def is_leap_year(year):\n",
    "        return (year % 4 == 0 and year % 100 != 0) or (year % 400 == 0)\n",
    "    \n",
    "    @staticmethod\n",
    "    def days_in_month(year, month):\n",
    "        if month == 2:\n",
    "            return 29 if DateUtils.is_leap_year(year) else 28\n",
    "        \n",
    "        thirty_days_months = [4, 6, 9, 11]\n",
    "        return 30 if month in thirty_days_months else 31\n",
    "\n",
    "if __name__ == \"__main__\":\n",
    "    year = 2020\n",
    "    month = 2\n",
    "    \n",
    "    leap_year_check = DateUtils.is_leap_year(year)\n",
    "    print(f\"Is leap year: {leap_year_check}\")\n",
    "    \n",
    "    days_in_month_count = DateUtils.days_in_month(year, month)\n",
    "    print(f\"Days in month {month} of year {year}: {days_in_month_count}\")\n"
   ]
  }
 ],
 "metadata": {
  "kernelspec": {
   "display_name": "Python 3",
   "language": "python",
   "name": "python3"
  },
  "language_info": {
   "codemirror_mode": {
    "name": "ipython",
    "version": 3
   },
   "file_extension": ".py",
   "mimetype": "text/x-python",
   "name": "python",
   "nbconvert_exporter": "python",
   "pygments_lexer": "ipython3",
   "version": "3.12.4"
  }
 },
 "nbformat": 4,
 "nbformat_minor": 2
}

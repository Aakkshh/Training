{
 "cells": [
  {
   "cell_type": "code",
   "execution_count": 1,
   "id": "66a017b1",
   "metadata": {},
   "outputs": [
    {
     "name": "stdout",
     "output_type": "stream",
     "text": [
      "name: \"City Library\", address: \"123 Main St\", books: ['Book2']\n"
     ]
    }
   ],
   "source": [
    "class Library:\n",
    "    def __init__(self, name, address, books=None):\n",
    "        self.name = name\n",
    "        self.address = address\n",
    "        self.books = books if books is not None else []\n",
    "        \n",
    "    def add_book(self, book):\n",
    "        self.books.append(book)\n",
    "        \n",
    "    def remove_book(self, book):\n",
    "        if book in self.books:\n",
    "            self.books.remove(book)\n",
    "        \n",
    "    def __str__(self):\n",
    "        return f'name: \"{self.name}\", address: \"{self.address}\", books: {self.books}'\n",
    "\n",
    "# Example Test Case for Library\n",
    "library = Library(name=\"City Library\", address=\"123 Main St\", books=[])\n",
    "library.add_book(\"Book1\")\n",
    "library.add_book(\"Book2\")\n",
    "library.remove_book(\"Book1\")\n",
    "print(library)\n"
   ]
  },
  {
   "cell_type": "code",
   "execution_count": 2,
   "id": "6bba5ba3",
   "metadata": {},
   "outputs": [
    {
     "name": "stdout",
     "output_type": "stream",
     "text": [
      "address: \"456 Elm St\", num_rooms: 4, price: 350000\n"
     ]
    }
   ],
   "source": [
    "class House:\n",
    "    def __init__(self, address, num_rooms, price):\n",
    "        self.address = address\n",
    "        self.num_rooms = num_rooms\n",
    "        self.price = price\n",
    "        \n",
    "    def display_details(self):\n",
    "        return f'address: \"{self.address}\", num_rooms: {self.num_rooms}, price: {self.price}'\n",
    "\n",
    "# Example Test Case for House\n",
    "house = House(address=\"456 Elm St\", num_rooms=4, price=350000)\n",
    "print(house.display_details())\n"
   ]
  },
  {
   "cell_type": "code",
   "execution_count": 3,
   "id": "567204c0",
   "metadata": {},
   "outputs": [
    {
     "name": "stdout",
     "output_type": "stream",
     "text": [
      "title: \"Python 101\", author: \"John Doe\", price: 26.99\n"
     ]
    }
   ],
   "source": [
    "class Book:\n",
    "    def __init__(self, title, author, price):\n",
    "        self.title = title\n",
    "        self.author = author\n",
    "        self.price = price\n",
    "        \n",
    "    def discount(self, percentage):\n",
    "        self.price -= self.price * percentage\n",
    "        self.price = round(self.price, 2)\n",
    "        \n",
    "    def __str__(self):\n",
    "        return f'title: \"{self.title}\", author: \"{self.author}\", price: {self.price}'\n",
    "\n",
    "# Example Test Case for Book\n",
    "book = Book(title=\"Python 101\", author=\"John Doe\", price=29.99)\n",
    "book.discount(0.1)\n",
    "print(book)\n"
   ]
  },
  {
   "cell_type": "code",
   "execution_count": 4,
   "id": "952ed4c3",
   "metadata": {},
   "outputs": [
    {
     "name": "stdout",
     "output_type": "stream",
     "text": [
      "name: \"Sushi Place\", cuisine_type: \"Japanese\", rating: 4.8\n"
     ]
    }
   ],
   "source": [
    "class Restaurant:\n",
    "    def __init__(self, name, cuisine_type, rating):\n",
    "        self.name = name\n",
    "        self.cuisine_type = cuisine_type\n",
    "        self.rating = rating\n",
    "        \n",
    "    def update_rating(self, new_rating):\n",
    "        self.rating = new_rating\n",
    "        \n",
    "    def __str__(self):\n",
    "        return f'name: \"{self.name}\", cuisine_type: \"{self.cuisine_type}\", rating: {self.rating}'\n",
    "\n",
    "# Example Test Case for Restaurant\n",
    "restaurant = Restaurant(name=\"Sushi Place\", cuisine_type=\"Japanese\", rating=4.5)\n",
    "restaurant.update_rating(4.8)\n",
    "print(restaurant)\n"
   ]
  },
  {
   "cell_type": "code",
   "execution_count": 5,
   "id": "4b0cbde7",
   "metadata": {},
   "outputs": [
    {
     "name": "stdout",
     "output_type": "stream",
     "text": [
      "name: \"Greenwood High\", students: 350, total_students: 350\n"
     ]
    }
   ],
   "source": [
    "class School:\n",
    "    total_students = 0\n",
    "    \n",
    "    def __init__(self, name, students):\n",
    "        self.name = name\n",
    "        self.students = students\n",
    "        School.total_students += students\n",
    "        \n",
    "    def enroll_students(self, new_students):\n",
    "        self.students += new_students\n",
    "        School.total_students += new_students\n",
    "        \n",
    "    def __str__(self):\n",
    "        return f'name: \"{self.name}\", students: {self.students}, total_students: {School.total_students}'\n",
    "\n",
    "# Example Test Case for School\n",
    "school = School(name=\"Greenwood High\", students=300)\n",
    "school.enroll_students(50)\n",
    "print(school)\n"
   ]
  },
  {
   "cell_type": "code",
   "execution_count": 6,
   "id": "c9392d6e",
   "metadata": {},
   "outputs": [
    {
     "name": "stdout",
     "output_type": "stream",
     "text": [
      "name: \"TechCorp\", num_employees: 220, industry: \"Technology\"\n"
     ]
    }
   ],
   "source": [
    "class Company:\n",
    "    industry = \"Technology\"\n",
    "    \n",
    "    def __init__(self, name, num_employees):\n",
    "        self.name = name\n",
    "        self.num_employees = num_employees\n",
    "        \n",
    "    def update_employees(self, new_num_employees):\n",
    "        self.num_employees = new_num_employees\n",
    "        \n",
    "    def __str__(self):\n",
    "        return f'name: \"{self.name}\", num_employees: {self.num_employees}, industry: \"{Company.industry}\"'\n",
    "\n",
    "# Example Test Case for Company\n",
    "company = Company(name=\"TechCorp\", num_employees=200)\n",
    "company.update_employees(220)\n",
    "print(company)\n"
   ]
  },
  {
   "cell_type": "code",
   "execution_count": 7,
   "id": "921aaaca",
   "metadata": {},
   "outputs": [
    {
     "name": "stdout",
     "output_type": "stream",
     "text": [
      "True\n"
     ]
    }
   ],
   "source": [
    "class MathUtils:\n",
    "    @staticmethod\n",
    "    def is_prime(number):\n",
    "        if number <= 1:\n",
    "            return False\n",
    "        for i in range(2, int(number ** 0.5) + 1):\n",
    "            if number % i == 0:\n",
    "                return False\n",
    "        return True\n",
    "\n",
    "# Example Test Case for MathUtils\n",
    "print(MathUtils.is_prime(17))  \n"
   ]
  },
  {
   "cell_type": "code",
   "execution_count": 8,
   "id": "7d552864",
   "metadata": {},
   "outputs": [
    {
     "name": "stdout",
     "output_type": "stream",
     "text": [
      "77.0\n"
     ]
    }
   ],
   "source": [
    "class TemperatureConverter:\n",
    "    @staticmethod\n",
    "    def celsius_to_fahrenheit(celsius):\n",
    "        return celsius * 9/5 + 32\n",
    "\n",
    "# Example Test Case for TemperatureConverter\n",
    "print(TemperatureConverter.celsius_to_fahrenheit(25)) \n"
   ]
  },
  {
   "cell_type": "code",
   "execution_count": 9,
   "id": "70b5edba",
   "metadata": {},
   "outputs": [
    {
     "name": "stdout",
     "output_type": "stream",
     "text": [
      "name: \"Alice\", salary: 70000, programming_language: \"Python\"\n"
     ]
    }
   ],
   "source": [
    "class Employee:\n",
    "    def __init__(self, name, salary):\n",
    "        self.name = name\n",
    "        self.salary = salary\n",
    "\n",
    "    def __str__(self):\n",
    "        return f'name: \"{self.name}\", salary: {self.salary}'\n",
    "\n",
    "class Developer(Employee):\n",
    "    def __init__(self, name, salary, programming_language):\n",
    "        super().__init__(name, salary)\n",
    "        self.programming_language = programming_language\n",
    "\n",
    "    def __str__(self):\n",
    "        return f'{super().__str__()}, programming_language: \"{self.programming_language}\"'\n",
    "\n",
    "# Example Test Case\n",
    "developer = Developer(name=\"Alice\", salary=70000, programming_language=\"Python\")\n",
    "print(developer)\n"
   ]
  },
  {
   "cell_type": "code",
   "execution_count": 10,
   "id": "c18f8996",
   "metadata": {},
   "outputs": [
    {
     "name": "stdout",
     "output_type": "stream",
     "text": [
      "Appliance is turned on\n",
      "Washing Machine LG is turned on\n"
     ]
    }
   ],
   "source": [
    "class Appliance:\n",
    "    def turn_on(self):\n",
    "        return \"Appliance is turned on\"\n",
    "\n",
    "class WashingMachine(Appliance):\n",
    "    def __init__(self, model):\n",
    "        self.model = model\n",
    "\n",
    "    def turn_on(self):\n",
    "        return f'Washing Machine {self.model} is turned on'\n",
    "\n",
    "# Example Test Case\n",
    "appliance = Appliance()\n",
    "washing_machine = WashingMachine(model=\"LG\")\n",
    "\n",
    "print(appliance.turn_on())\n",
    "print(washing_machine.turn_on())\n"
   ]
  },
  {
   "cell_type": "code",
   "execution_count": 11,
   "id": "f480802f",
   "metadata": {},
   "outputs": [
    {
     "name": "stdout",
     "output_type": "stream",
     "text": [
      "Initial username: user1\n",
      "Initial password: pass123\n",
      "Updated password: newpass123\n"
     ]
    }
   ],
   "source": [
    "class PrivateData:\n",
    "    def __init__(self, username, password):\n",
    "        self.__username = username\n",
    "        self.__password = password\n",
    "\n",
    "    def get_username(self):\n",
    "        return self.__username\n",
    "\n",
    "    def set_username(self, username):\n",
    "        self.__username = username\n",
    "\n",
    "    def get_password(self):\n",
    "        return self.__password\n",
    "\n",
    "    def set_password(self, password):\n",
    "        self.__password = password\n",
    "\n",
    "# Example Test Case\n",
    "private_data = PrivateData(username=\"user1\", password=\"pass123\")\n",
    "print(\"Initial username:\", private_data.get_username())\n",
    "print(\"Initial password:\", private_data.get_password())\n",
    "\n",
    "private_data.set_password(\"newpass123\")\n",
    "print(\"Updated password:\", private_data.get_password())\n"
   ]
  },
  {
   "cell_type": "code",
   "execution_count": 13,
   "id": "6ddcd4af",
   "metadata": {},
   "outputs": [
    {
     "name": "stdout",
     "output_type": "stream",
     "text": [
      "Account number: 987654321\n",
      "Initial balance: 5000\n",
      "Balance after deposit: 6500\n",
      "Balance after withdrawal: 4500\n"
     ]
    }
   ],
   "source": [
    "class Account:\n",
    "    def __init__(self, account_number, balance):\n",
    "        self.__account_number = account_number\n",
    "        self.__balance = balance\n",
    "\n",
    "    def deposit(self, amount):\n",
    "        if amount > 0:\n",
    "            self.__balance += amount\n",
    "        else:\n",
    "            print(\"Invalid deposit amount\")\n",
    "\n",
    "    def withdraw(self, amount):\n",
    "        if 0 < amount <= self.__balance:\n",
    "            self.__balance -= amount\n",
    "        else:\n",
    "            print(\"Invalid withdrawal amount or insufficient funds\")\n",
    "\n",
    "    def get_balance(self):\n",
    "        return self.__balance\n",
    "\n",
    "    def get_account_number(self):\n",
    "        return self.__account_number\n",
    "\n",
    "# Example Test Case\n",
    "account = Account(account_number=\"987654321\", balance=5000)\n",
    "print(\"Account number:\", account.get_account_number())\n",
    "print(\"Initial balance:\", account.get_balance())\n",
    "\n",
    "account.deposit(1500)\n",
    "print(\"Balance after deposit:\", account.get_balance())\n",
    "\n",
    "account.withdraw(2000)\n",
    "print(\"Balance after withdrawal:\", account.get_balance())\n"
   ]
  },
  {
   "cell_type": "code",
   "execution_count": 14,
   "id": "2db69403",
   "metadata": {},
   "outputs": [
    {
     "name": "stdout",
     "output_type": "stream",
     "text": [
      "Toyota is driving\n",
      "Yamaha is riding\n"
     ]
    }
   ],
   "source": [
    "class Car:\n",
    "    def __init__(self, model):\n",
    "        self.model = model\n",
    "\n",
    "    def move(self):\n",
    "        return f'{self.model} is driving'\n",
    "\n",
    "class Bike:\n",
    "    def __init__(self, model):\n",
    "        self.model = model\n",
    "\n",
    "    def move(self):\n",
    "        return f'{self.model} is riding'\n",
    "\n",
    "def operate_vehicle(vehicle):\n",
    "    return vehicle.move()\n",
    "\n",
    "# Example Test Case\n",
    "car = Car(model=\"Toyota\")\n",
    "bike = Bike(model=\"Yamaha\")\n",
    "\n",
    "print(operate_vehicle(car))\n",
    "print(operate_vehicle(bike))\n"
   ]
  },
  {
   "cell_type": "code",
   "execution_count": 15,
   "id": "892110a3",
   "metadata": {},
   "outputs": [
    {
     "name": "stdout",
     "output_type": "stream",
     "text": [
      "Dell is operating\n",
      "iPhone is operating\n"
     ]
    }
   ],
   "source": [
    "class Laptop:\n",
    "    def __init__(self, model):\n",
    "        self.model = model\n",
    "\n",
    "    def operate(self):\n",
    "        return f'{self.model} is operating'\n",
    "\n",
    "class Smartphone:\n",
    "    def __init__(self, model):\n",
    "        self.model = model\n",
    "\n",
    "    def operate(self):\n",
    "        return f'{self.model} is operating'\n",
    "\n",
    "def operate_device(device):\n",
    "    return device.operate()\n",
    "\n",
    "# Example Test Case\n",
    "laptop = Laptop(model=\"Dell\")\n",
    "smartphone = Smartphone(model=\"iPhone\")\n",
    "\n",
    "print(operate_device(laptop))\n",
    "print(operate_device(smartphone))\n"
   ]
  },
  {
   "cell_type": "code",
   "execution_count": 16,
   "id": "42cbde1c",
   "metadata": {},
   "outputs": [
    {
     "name": "stdout",
     "output_type": "stream",
     "text": [
      "Bus 10A is traveling\n",
      "Train Express is traveling\n"
     ]
    }
   ],
   "source": [
    "from abc import ABC, abstractmethod\n",
    "\n",
    "class Transport(ABC):\n",
    "    @abstractmethod\n",
    "    def travel(self):\n",
    "        pass\n",
    "\n",
    "class Bus(Transport):\n",
    "    def __init__(self, route):\n",
    "        self.route = route\n",
    "\n",
    "    def travel(self):\n",
    "        return f'Bus {self.route} is traveling'\n",
    "\n",
    "class Train(Transport):\n",
    "    def __init__(self, route):\n",
    "        self.route = route\n",
    "\n",
    "    def travel(self):\n",
    "        return f'Train {self.route} is traveling'\n",
    "\n",
    "# Example Test Case\n",
    "bus = Bus(route=\"10A\")\n",
    "train = Train(route=\"Express\")\n",
    "\n",
    "print(bus.travel())\n",
    "print(train.travel())\n"
   ]
  },
  {
   "cell_type": "code",
   "execution_count": 17,
   "id": "7c202b35",
   "metadata": {},
   "outputs": [
    {
     "name": "stdout",
     "output_type": "stream",
     "text": [
      "Processing credit card payment for 1234\n",
      "Processing PayPal payment for user@example.com\n"
     ]
    }
   ],
   "source": [
    "from abc import ABC, abstractmethod\n",
    "\n",
    "class Payment(ABC):\n",
    "    @abstractmethod\n",
    "    def process(self):\n",
    "        pass\n",
    "\n",
    "class CreditCard(Payment):\n",
    "    def __init__(self, number):\n",
    "        self.number = number\n",
    "\n",
    "    def process(self):\n",
    "        return f'Processing credit card payment for {self.number}'\n",
    "\n",
    "class PayPal(Payment):\n",
    "    def __init__(self, account):\n",
    "        self.account = account\n",
    "\n",
    "    def process(self):\n",
    "        return f'Processing PayPal payment for {self.account}'\n",
    "\n",
    "# Example Test Case\n",
    "credit_card = CreditCard(number=\"1234\")\n",
    "paypal = PayPal(account=\"user@example.com\")\n",
    "\n",
    "print(credit_card.process())\n",
    "print(paypal.process())\n"
   ]
  },
  {
   "cell_type": "code",
   "execution_count": 18,
   "id": "da24ef9a",
   "metadata": {},
   "outputs": [
    {
     "name": "stdout",
     "output_type": "stream",
     "text": [
      "Initial email: email@email.com, Initial password: 1234\n",
      "Updated email: newemail@email.com, Updated password: abcd\n"
     ]
    }
   ],
   "source": [
    "class User:\n",
    "    def __init__(self, username, email, password):\n",
    "        self.username = username\n",
    "        self.email = email\n",
    "        self.password = password\n",
    "\n",
    "    def update_email(self, new_email):\n",
    "        self.email = new_email\n",
    "\n",
    "    def update_password(self, new_password):\n",
    "        self.password = new_password\n",
    "\n",
    "# Example Test Case\n",
    "user = User(username=\"username\", email=\"email@email.com\", password=\"1234\")\n",
    "print(f\"Initial email: {user.email}, Initial password: {user.password}\")\n",
    "\n",
    "user.update_email(\"newemail@email.com\")\n",
    "user.update_password(\"abcd\")\n",
    "print(f\"Updated email: {user.email}, Updated password: {user.password}\")\n"
   ]
  },
  {
   "cell_type": "code",
   "execution_count": 19,
   "id": "54d49491",
   "metadata": {},
   "outputs": [
    {
     "name": "stdout",
     "output_type": "stream",
     "text": [
      "Initial score: 0, Initial health: 100\n",
      "Updated score: 10, Updated health: 90\n"
     ]
    }
   ],
   "source": [
    "class Player:\n",
    "    def __init__(self, name, score, health):\n",
    "        self.name = name\n",
    "        self.score = score\n",
    "        self.health = health\n",
    "\n",
    "    def increase_score(self, amount):\n",
    "        self.score += amount\n",
    "\n",
    "    def decrease_health(self, amount):\n",
    "        self.health -= amount\n",
    "        if self.health < 0:\n",
    "            self.health = 0\n",
    "\n",
    "    def heal(self, amount):\n",
    "        self.health += amount\n",
    "        if self.health > 100:\n",
    "            self.health = 100\n",
    "\n",
    "# Example Test Case\n",
    "player = Player(name=\"Player1\", score=0, health=100)\n",
    "print(f\"Initial score: {player.score}, Initial health: {player.health}\")\n",
    "\n",
    "player.increase_score(10)\n",
    "player.decrease_health(20)\n",
    "player.heal(10)\n",
    "print(f\"Updated score: {player.score}, Updated health: {player.health}\")\n"
   ]
  },
  {
   "cell_type": "code",
   "execution_count": 20,
   "id": "9cd36808",
   "metadata": {},
   "outputs": [
    {
     "name": "stdout",
     "output_type": "stream",
     "text": [
      "Initial balance: 1000\n",
      "Balance after deposit: 1500\n",
      "Balance after withdrawal: 1300\n",
      "Invalid withdrawal amount or insufficient funds\n",
      "Balance after failed withdrawal: 1300\n"
     ]
    }
   ],
   "source": [
    "class BankAccount:\n",
    "    def __init__(self, account_number, balance):\n",
    "        self.account_number = account_number\n",
    "        self.balance = balance\n",
    "\n",
    "    def deposit(self, amount):\n",
    "        if amount > 0:\n",
    "            self.balance += amount\n",
    "        else:\n",
    "            print(\"Invalid deposit amount\")\n",
    "\n",
    "    def withdraw(self, amount):\n",
    "        if 0 < amount <= self.balance:\n",
    "            self.balance -= amount\n",
    "        else:\n",
    "            print(\"Invalid withdrawal amount or insufficient funds\")\n",
    "\n",
    "# Example Test Case\n",
    "account = BankAccount(account_number=\"12345678\", balance=1000)\n",
    "print(f\"Initial balance: {account.balance}\")\n",
    "\n",
    "account.deposit(500)\n",
    "print(f\"Balance after deposit: {account.balance}\")\n",
    "\n",
    "account.withdraw(200)\n",
    "print(f\"Balance after withdrawal: {account.balance}\")\n",
    "\n",
    "account.withdraw(1500)\n",
    "print(f\"Balance after failed withdrawal: {account.balance}\")\n"
   ]
  },
  {
   "cell_type": "code",
   "execution_count": 21,
   "id": "23ac1ff2",
   "metadata": {},
   "outputs": [
    {
     "name": "stdout",
     "output_type": "stream",
     "text": [
      "Initial connections: 0\n",
      "Connections after adding one: 1\n"
     ]
    }
   ],
   "source": [
    "class Database:\n",
    "    connections = 0\n",
    "\n",
    "    @classmethod\n",
    "    def add_connection(cls):\n",
    "        cls.connections += 1\n",
    "\n",
    "# Example Test Case\n",
    "print(f\"Initial connections: {Database.connections}\")\n",
    "\n",
    "Database.add_connection()\n",
    "print(f\"Connections after adding one: {Database.connections}\")\n"
   ]
  },
  {
   "cell_type": "code",
   "execution_count": 22,
   "id": "17a6d6e3",
   "metadata": {},
   "outputs": [
    {
     "name": "stdout",
     "output_type": "stream",
     "text": [
      "Pizza name: Margherita, ingredients: ['cheese', 'tomato']\n",
      "Pizza name: Pepperoni, ingredients: ['cheese', 'pepperoni']\n"
     ]
    }
   ],
   "source": [
    "class Pizza:\n",
    "    def __init__(self, name, ingredients):\n",
    "        self.name = name\n",
    "        self.ingredients = ingredients\n",
    "\n",
    "    @classmethod\n",
    "    def create_margherita(cls):\n",
    "        return cls(name=\"Margherita\", ingredients=[\"cheese\", \"tomato\"])\n",
    "\n",
    "    @classmethod\n",
    "    def create_pepperoni(cls):\n",
    "        return cls(name=\"Pepperoni\", ingredients=[\"cheese\", \"pepperoni\"])\n",
    "\n",
    "# Example Test Case\n",
    "margherita = Pizza.create_margherita()\n",
    "pepperoni = Pizza.create_pepperoni()\n",
    "\n",
    "print(f\"Pizza name: {margherita.name}, ingredients: {margherita.ingredients}\")\n",
    "print(f\"Pizza name: {pepperoni.name}, ingredients: {pepperoni.ingredients}\")\n"
   ]
  },
  {
   "cell_type": "code",
   "execution_count": 23,
   "id": "450f59b9",
   "metadata": {},
   "outputs": [
    {
     "name": "stdout",
     "output_type": "stream",
     "text": [
      "Initial total books: 0\n",
      "Total books after adding 5: 5\n"
     ]
    }
   ],
   "source": [
    "class Library:\n",
    "    total_books = 0\n",
    "\n",
    "    @classmethod\n",
    "    def add_book(cls, count):\n",
    "        cls.total_books += count\n",
    "\n",
    "    @classmethod\n",
    "    def get_total_books(cls):\n",
    "        return cls.total_books\n",
    "\n",
    "# Example Test Case\n",
    "print(f\"Initial total books: {Library.total_books}\")\n",
    "\n",
    "Library.add_book(5)\n",
    "print(f\"Total books after adding 5: {Library.get_total_books()}\")\n"
   ]
  },
  {
   "cell_type": "code",
   "execution_count": 24,
   "id": "167b1851",
   "metadata": {},
   "outputs": [
    {
     "name": "stdout",
     "output_type": "stream",
     "text": [
      "add(10, 5) = 15\n",
      "subtract(10, 5) = 5\n",
      "multiply(10, 5) = 50\n",
      "divide(10, 5) = 2.0\n"
     ]
    }
   ],
   "source": [
    "class Calculator:\n",
    "    @staticmethod\n",
    "    def add(a, b):\n",
    "        return a + b\n",
    "\n",
    "    @staticmethod\n",
    "    def subtract(a, b):\n",
    "        return a - b\n",
    "\n",
    "    @staticmethod\n",
    "    def multiply(a, b):\n",
    "        return a * b\n",
    "\n",
    "    @staticmethod\n",
    "    def divide(a, b):\n",
    "        if b != 0:\n",
    "            return a / b\n",
    "        else:\n",
    "            return \"Cannot divide by zero\"\n",
    "\n",
    "# Example Test Case\n",
    "a, b = 10, 5\n",
    "print(f\"add({a}, {b}) = {Calculator.add(a, b)}\")\n",
    "print(f\"subtract({a}, {b}) = {Calculator.subtract(a, b)}\")\n",
    "print(f\"multiply({a}, {b}) = {Calculator.multiply(a, b)}\")\n",
    "print(f\"divide({a}, {b}) = {Calculator.divide(a, b)}\")\n"
   ]
  },
  {
   "cell_type": "code",
   "execution_count": 25,
   "id": "bdead01b",
   "metadata": {},
   "outputs": [
    {
     "name": "stdout",
     "output_type": "stream",
     "text": [
      "reverse_string(racecar) = racecar\n",
      "is_palindrome(racecar) = True\n"
     ]
    }
   ],
   "source": [
    "class StringUtils:\n",
    "    @staticmethod\n",
    "    def reverse_string(string):\n",
    "        return string[::-1]\n",
    "\n",
    "    @staticmethod\n",
    "    def is_palindrome(string):\n",
    "        return string == string[::-1]\n",
    "\n",
    "# Example Test Case\n",
    "string = \"racecar\"\n",
    "print(f\"reverse_string({string}) = {StringUtils.reverse_string(string)}\")\n",
    "print(f\"is_palindrome({string}) = {StringUtils.is_palindrome(string)}\")\n"
   ]
  },
  {
   "cell_type": "code",
   "execution_count": 26,
   "id": "2f392b2c",
   "metadata": {},
   "outputs": [
    {
     "name": "stdout",
     "output_type": "stream",
     "text": [
      "is_leap_year(2020) = True\n",
      "days_in_month(2020, 2) = 29\n"
     ]
    }
   ],
   "source": [
    "class DateUtils:\n",
    "    @staticmethod\n",
    "    def is_leap_year(year):\n",
    "        if (year % 4 == 0 and year % 100 != 0) or (year % 400 == 0):\n",
    "            return True\n",
    "        else:\n",
    "            return False\n",
    "\n",
    "    @staticmethod\n",
    "    def days_in_month(year, month):\n",
    "        if month < 1 or month > 12:\n",
    "            return \"Invalid month\"\n",
    "        if month == 2:\n",
    "            if DateUtils.is_leap_year(year):\n",
    "                return 29\n",
    "            else:\n",
    "                return 28\n",
    "        if month in [4, 6, 9, 11]:\n",
    "            return 30\n",
    "        return 31\n",
    "\n",
    "# Example Test Case\n",
    "year, month = 2020, 2\n",
    "print(f\"is_leap_year({year}) = {DateUtils.is_leap_year(year)}\")\n",
    "print(f\"days_in_month({year}, {month}) = {DateUtils.days_in_month(year, month)}\")\n"
   ]
  }
 ],
 "metadata": {
  "kernelspec": {
   "display_name": "Python 3 (ipykernel)",
   "language": "python",
   "name": "python3"
  },
  "language_info": {
   "codemirror_mode": {
    "name": "ipython",
    "version": 3
   },
   "file_extension": ".py",
   "mimetype": "text/x-python",
   "name": "python",
   "nbconvert_exporter": "python",
   "pygments_lexer": "ipython3",
   "version": "3.11.4"
  }
 },
 "nbformat": 4,
 "nbformat_minor": 5
}

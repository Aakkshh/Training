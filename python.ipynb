{
 "cells": [
  {
   "cell_type": "code",
   "execution_count": 1,
   "metadata": {},
   "outputs": [
    {
     "name": "stdout",
     "output_type": "stream",
     "text": [
      "ji\n"
     ]
    }
   ],
   "source": [
    "print(\"ji\")"
   ]
  },
  {
   "cell_type": "code",
   "execution_count": 3,
   "metadata": {},
   "outputs": [
    {
     "name": "stdout",
     "output_type": "stream",
     "text": [
      "prime are:  [11, 13, 17, 19, 23, 29]\n"
     ]
    }
   ],
   "source": [
    "def prime(x, y):\n",
    "    prime_list = []\n",
    "    for i in range(x, y):\n",
    "        if i == 0 or i == 1:\n",
    "            continue\n",
    "        else:\n",
    "            for j in range(2, int(i/2)+1):\n",
    "                if i % j == 0:\n",
    "                    break\n",
    "            else:\n",
    "                prime_list.append(i)\n",
    "    return prime_list\n",
    "\n",
    "\n",
    "# Driver program\n",
    "starting_range = 10\n",
    "ending_range = 30\n",
    "lst = prime(starting_range, ending_range)\n",
    "if len(lst) == 0:\n",
    "    print(\"no prime\")\n",
    "else:\n",
    "    print(\"prime are: \", lst)\n"
   ]
  },
  {
   "cell_type": "code",
   "execution_count": 5,
   "metadata": {},
   "outputs": [
    {
     "name": "stdout",
     "output_type": "stream",
     "text": [
      "[2, 3, 5, 7, 11]\n"
     ]
    }
   ],
   "source": [
    "def is_prime(num):\n",
    "    if num <= 1:\n",
    "        return False\n",
    "    if num == 2:\n",
    "        return True  \n",
    "    if num % 2 == 0:\n",
    "        return False  \n",
    "    max_divisor = int(num**0.5) + 1\n",
    "    for divisor in range(3, max_divisor, 2):\n",
    "        if num % divisor == 0:\n",
    "            return False\n",
    "    return True\n",
    "\n",
    "def first_n_primes(n):\n",
    "    \"\"\" Function to find the first n prime numbers \"\"\"\n",
    "    primes = []\n",
    "    number = 2 \n",
    "    while len(primes) < n:\n",
    "        if is_prime(number):\n",
    "            primes.append(number)\n",
    "        number += 1\n",
    "    return primes\n",
    "\n",
    "# Example usage:\n",
    "n = 5\n",
    "result = first_n_primes(n)\n",
    "print(result)  # Output: [2, 3, 5, 7, 11]\n"
   ]
  },
  {
   "cell_type": "code",
   "execution_count": 6,
   "metadata": {},
   "outputs": [
    {
     "name": "stdout",
     "output_type": "stream",
     "text": [
      "jumps\n"
     ]
    }
   ],
   "source": [
    "# Python3 program for the above approach\n",
    "\n",
    "# Function to print the longest\n",
    "# word in given sentence\n",
    "def largestWord(s):\n",
    "\n",
    "\t# Sort the words in increasing\n",
    "\t# order of their lengths\n",
    "\ts = sorted(s, key = len)\n",
    "\n",
    "\t# Print last word\n",
    "\tprint(s[-1])\n",
    "\n",
    "\n",
    "# Driver Code\n",
    "if __name__ == \"__main__\":\n",
    "\n",
    "\t# Given string\n",
    "\ts = \"the quick brown fox jumps over the lazy dog\"\n",
    "\n",
    "\t# Split the string into words\n",
    "\tl = list(s.split(\" \"))\n",
    "\n",
    "\tlargestWord(l)\n"
   ]
  },
  {
   "cell_type": "code",
   "execution_count": 8,
   "metadata": {},
   "outputs": [
    {
     "name": "stdout",
     "output_type": "stream",
     "text": [
      "True\n"
     ]
    }
   ],
   "source": [
    "def c(s1,s2):\n",
    "    if(sorted(s1)== sorted(s2)):\n",
    "        print(\"True\")\n",
    "    else:\n",
    "        print(\"False\")\n",
    "s1=\"abc\"\n",
    "s2=\"bac\"  \n",
    "c(s1,s2)"
   ]
  },
  {
   "cell_type": "code",
   "execution_count": 9,
   "metadata": {},
   "outputs": [
    {
     "name": "stdout",
     "output_type": "stream",
     "text": [
      "3\n"
     ]
    }
   ],
   "source": [
    "def count(lst):\n",
    "    return sum(bool(x) for x in lst)\n",
    "lst = [True, False, True, True, False]\n",
    "print(count(lst))"
   ]
  },
  {
   "cell_type": "code",
   "execution_count": 10,
   "metadata": {},
   "outputs": [
    {
     "name": "stdout",
     "output_type": "stream",
     "text": [
      "True\n"
     ]
    }
   ],
   "source": [
    "def evaluate_boolean_expression(expression):\n",
    "  \n",
    "    expression = expression.replace('True', 'True').replace('False', 'False')\n",
    "    try:\n",
    "        result = eval(expression)\n",
    "        return result\n",
    "    except Exception as e:\n",
    "        print(f\"Error evaluating expression: {e}\")\n",
    "        return None\n",
    "expression = \"True and False or True\"\n",
    "result = evaluate_boolean_expression(expression)\n",
    "print(result)  # Output: True\n"
   ]
  },
  {
   "cell_type": "code",
   "execution_count": 11,
   "metadata": {},
   "outputs": [
    {
     "name": "stdout",
     "output_type": "stream",
     "text": [
      "Second highest number is :  45\n"
     ]
    }
   ],
   "source": [
    "\n",
    "list1 = [10, 20, 4, 45, 99]\n",
    "\n",
    "mx = max(list1[0], list1[1]) \n",
    "secondmax = min(list1[0], list1[1]) \n",
    "n = len(list1)\n",
    "for i in range(2,n): \n",
    "\tif list1[i] > mx: \n",
    "\t\tsecondmax = mx\n",
    "\t\tmx = list1[i] \n",
    "\telif list1[i] > secondmax and \\\n",
    "\t\tmx != list1[i]: \n",
    "\t\tsecondmax = list1[i]\n",
    "\telif mx == secondmax and \\\n",
    "\t\tsecondmax != list1[i]:\n",
    "\t\tsecondmax = list1[i]\n",
    "\n",
    "print(\"Second highest number is : \",\\\n",
    "\tstr(secondmax))\n"
   ]
  },
  {
   "cell_type": "code",
   "execution_count": 13,
   "metadata": {},
   "outputs": [
    {
     "name": "stdout",
     "output_type": "stream",
     "text": [
      "['3', '2', '1']\n"
     ]
    }
   ],
   "source": [
    "# Python function to print permutations of a given list\n",
    "def permutation(lst):\n",
    "\n",
    "\t# If lst is empty then there are no permutations\n",
    "\tif len(lst) == 0:\n",
    "\t\treturn []\n",
    "\n",
    "\t# If there is only one element in lst then, only\n",
    "\t# one permutation is possible\n",
    "\tif len(lst) == 1:\n",
    "\t\treturn [lst]\n",
    "\n",
    "\t# Find the permutations for lst if there are\n",
    "\t# more than 1 characters\n",
    "\n",
    "\tl = [] # empty list that will store current permutation\n",
    "\n",
    "\t# Iterate the input(lst) and calculate the permutation\n",
    "\tfor i in range(len(lst)):\n",
    "\t m = lst[i]\n",
    "\n",
    "\tremLst = lst[:i] + lst[i+1:]\n",
    "\tfor p in permutation(remLst):\n",
    "\t\tl.append([m] + p)\n",
    "\treturn l\n",
    "data = list('123')\n",
    "for p in permutation(data):\n",
    "\tprint (p)\n"
   ]
  },
  {
   "cell_type": "code",
   "execution_count": 15,
   "metadata": {},
   "outputs": [
    {
     "name": "stdout",
     "output_type": "stream",
     "text": [
      "(1, 2, 3, 4, 5, 6)\n"
     ]
    }
   ],
   "source": [
    "def mer(t1, t2):\n",
    "    merged = ()\n",
    "    i, j = 0, 0\n",
    "    \n",
    "    # Merge the two tuples in sorted order\n",
    "    while i < len(t1) and j < len(t2):\n",
    "        if t1[i] < t2[j]:\n",
    "            merged += (t1[i],)\n",
    "            i += 1\n",
    "        else:\n",
    "            merged += (t2[j],)\n",
    "            j += 1\n",
    "    while i < len(t1):\n",
    "        merged += (t1[i],)\n",
    "        i += 1\n",
    "    while j < len(t2):\n",
    "        merged += (t2[j],)\n",
    "        j += 1\n",
    "    \n",
    "    return merged\n",
    "t1 = (1, 3, 5)\n",
    "t2 = (2, 4, 6)\n",
    "result = mer(t1, t2)\n",
    "print(result) \n"
   ]
  },
  {
   "cell_type": "code",
   "execution_count": 16,
   "metadata": {},
   "outputs": [
    {
     "name": "stdout",
     "output_type": "stream",
     "text": [
      "{'b': 5, 'c': 4}\n"
     ]
    }
   ],
   "source": [
    "\n",
    "dict1 = {'a': 1, 'b': 2}\n",
    "dict2 = {'b': 3, 'c':4}\n",
    "\n",
    "\n",
    "# adding the values with common key\n",
    "for key in dict2:\n",
    "\tif key in dict1:\n",
    "\t\tdict2[key] = dict2[key] + dict1[key]\n",
    "\telse:\n",
    "\t\tpass\n",
    "\t\t\n",
    "print(dict2)\n"
   ]
  },
  {
   "cell_type": "code",
   "execution_count": 17,
   "metadata": {},
   "outputs": [
    {
     "name": "stdout",
     "output_type": "stream",
     "text": [
      "{1, 2, 4, 5}\n"
     ]
    }
   ],
   "source": [
    "set1 = {1, 2, 3}\n",
    "set2 = {3, 4, 5}\n",
    "\n",
    "result = set1.symmetric_difference(set2)\n",
    "print(result)\n"
   ]
  },
  {
   "cell_type": "code",
   "execution_count": 18,
   "metadata": {},
   "outputs": [
    {
     "name": "stdout",
     "output_type": "stream",
     "text": [
      "Leap Year\n"
     ]
    }
   ],
   "source": [
    "def is_leap_year(y):\n",
    "    if (y % 4 == 0 and y % 100 != 0) or (y % 400 == 0):\n",
    "        return True\n",
    "    else:\n",
    "        return False\n",
    "\n",
    "def classify_year(y):\n",
    "    \"\"\" Function to classify a given year as Leap Year or Non-Leap Year \"\"\"\n",
    "    if is_leap_year(y):\n",
    "        return \"Leap Year\"\n",
    "    else:\n",
    "        return \"Non-Leap Year\"\n",
    "\n",
    "# Example usage:\n",
    "y = 2020\n",
    "result = classify_year(y)\n",
    "print(result)  # Output: \"Leap Year\"\n"
   ]
  },
  {
   "cell_type": "code",
   "execution_count": 19,
   "metadata": {},
   "outputs": [
    {
     "name": "stdout",
     "output_type": "stream",
     "text": [
      "real and different roots\n",
      "2.0\n",
      "-12.0\n"
     ]
    }
   ],
   "source": [
    "# Python program to find roots of quadratic equation\n",
    "import math \n",
    "\n",
    "\n",
    "# function for finding roots\n",
    "def equationroots( a, b, c): \n",
    "\n",
    "    # calculating discriminant using formula\n",
    "    dis = b * b - 4 * a * c \n",
    "    sqrt_val = math.sqrt(abs(dis)) \n",
    "    \n",
    "    # checking condition for discriminant\n",
    "    if dis > 0: \n",
    "        print(\"real and different roots\") \n",
    "        print((-b + sqrt_val)/(2 * a)) \n",
    "        print((-b - sqrt_val)/(2 * a)) \n",
    "    \n",
    "    elif dis == 0: \n",
    "        print(\"real and same roots\") \n",
    "        print(-b / (2 * a)) \n",
    "    \n",
    "    # when discriminant is less than 0\n",
    "    else:\n",
    "        print(\"Complex Roots\") \n",
    "        print(- b / (2 * a), + i, sqrt_val / (2 * a)) \n",
    "        print(- b / (2 * a), - i, sqrt_val / (2 * a)) \n",
    "\n",
    "# Driver Program \n",
    "a = 1\n",
    "b = 10\n",
    "c = -24\n",
    "\n",
    "# If a is 0, then incorrect equation\n",
    "if a == 0: \n",
    "        print(\"Input correct quadratic equation\") \n",
    "\n",
    "else:\n",
    "    equationroots(a, b, c)\n"
   ]
  },
  {
   "cell_type": "code",
   "execution_count": 23,
   "metadata": {},
   "outputs": [
    {
     "name": "stdout",
     "output_type": "stream",
     "text": [
      "Fibonacci sequence:\n",
      "0\n",
      "1\n",
      "1\n",
      "2\n",
      "3\n"
     ]
    }
   ],
   "source": [
    "\n",
    "n = int(input(\"How many terms? \"))\n",
    "\n",
    "# first two terms\n",
    "n1, n2 = 0, 1\n",
    "count = 0\n",
    "\n",
    "# check if the number of terms is valid\n",
    "if n <= 0:\n",
    "   print(\"Please enter a positive integer\")\n",
    "# if there is only one term, return n1\n",
    "elif n == 1:\n",
    "   print(\"Fibonacci sequence upto\",nterms,\":\")\n",
    "   print(n1)\n",
    "# generate fibonacci sequence\n",
    "else:\n",
    "   print(\"Fibonacci sequence:\")\n",
    "   while count < n:\n",
    "       print(n1)\n",
    "       nth = n1 + n2\n",
    "       # update values\n",
    "       n1 = n2\n",
    "       n2 = nth\n",
    "       count += 1"
   ]
  }
 ],
 "metadata": {
  "kernelspec": {
   "display_name": "Python 3",
   "language": "python",
   "name": "python3"
  },
  "language_info": {
   "codemirror_mode": {
    "name": "ipython",
    "version": 3
   },
   "file_extension": ".py",
   "mimetype": "text/x-python",
   "name": "python",
   "nbconvert_exporter": "python",
   "pygments_lexer": "ipython3",
   "version": "3.12.4"
  }
 },
 "nbformat": 4,
 "nbformat_minor": 2
}

{
 "cells": [
  {
   "cell_type": "code",
   "execution_count": 1,
   "id": "bddbb5d2",
   "metadata": {},
   "outputs": [
    {
     "name": "stdout",
     "output_type": "stream",
     "text": [
      "name: \"Alice\", age: 20, grades: [90, 85, 88]\n"
     ]
    }
   ],
   "source": [
    "class Student:\n",
    "    def __init__(self, name, age, grades):\n",
    "        self.name = name\n",
    "        self.age = age\n",
    "        self.grades = grades\n",
    "\n",
    "    def __repr__(self):\n",
    "        return f'name: \"{self.name}\", age: {self.age}, grades: {self.grades}'\n",
    "\n",
    "# Example Test Case\n",
    "student = Student(\"Alice\", 20, [90, 85, 88])\n",
    "print(student)\n"
   ]
  },
  {
   "cell_type": "code",
   "execution_count": 2,
   "id": "e7e11dce",
   "metadata": {},
   "outputs": [
    {
     "name": "stdout",
     "output_type": "stream",
     "text": [
      "Employee(name=\"John Doe\", position=\"Manager\", salary=75000)\n",
      "Employee(name=\"Jane Smith\", position=\"Engineer\", salary=80000)\n"
     ]
    }
   ],
   "source": [
    "import csv\n",
    "\n",
    "class Employee:\n",
    "    def __init__(self, name, position, salary):\n",
    "        self.name = name\n",
    "        self.position = position\n",
    "        self.salary = salary\n",
    "\n",
    "    def __repr__(self):\n",
    "        return f'Employee(name=\"{self.name}\", position=\"{self.position}\", salary={self.salary})'\n",
    "\n",
    "def load_employees_from_csv(file_path):\n",
    "    employees = []\n",
    "    with open(file_path, 'r') as file:\n",
    "        reader = csv.reader(file)\n",
    "        for row in reader:\n",
    "            employees.append(Employee(row[0], row[1], int(row[2])))\n",
    "    return employees\n",
    "\n",
    "# Example Test Case\n",
    "employees = load_employees_from_csv('employees.csv')\n",
    "for employee in employees:\n",
    "    print(employee)\n"
   ]
  },
  {
   "cell_type": "code",
   "execution_count": 3,
   "id": "b8f49a57",
   "metadata": {},
   "outputs": [
    {
     "name": "stdout",
     "output_type": "stream",
     "text": [
      "account_number: \"12345678\", balance: 1000\n"
     ]
    }
   ],
   "source": [
    "class BankAccount:\n",
    "    def __init__(self, account_number, initial_balance):\n",
    "        self.account_number = account_number\n",
    "        self.balance = initial_balance\n",
    "\n",
    "    def __repr__(self):\n",
    "        return f'account_number: \"{self.account_number}\", balance: {self.balance}'\n",
    "\n",
    "# Example Test Case\n",
    "account = BankAccount(\"12345678\", 1000)\n",
    "print(account)\n"
   ]
  },
  {
   "cell_type": "code",
   "execution_count": 4,
   "id": "7352a4ca",
   "metadata": {},
   "outputs": [
    {
     "name": "stdout",
     "output_type": "stream",
     "text": [
      "area: 15, perimeter: 16\n"
     ]
    }
   ],
   "source": [
    "class Rectangle:\n",
    "    def __init__(self, length, width):\n",
    "        self.length = length\n",
    "        self.width = width\n",
    "\n",
    "    def area(self):\n",
    "        return self.length * self.width\n",
    "\n",
    "    def perimeter(self):\n",
    "        return 2 * (self.length + self.width)\n",
    "\n",
    "    def __repr__(self):\n",
    "        return f'area: {self.area()}, perimeter: {self.perimeter()}'\n",
    "\n",
    "# Example Test Case\n",
    "rectangle = Rectangle(5, 3)\n",
    "print(rectangle)\n"
   ]
  },
  {
   "cell_type": "code",
   "execution_count": 5,
   "id": "faada677",
   "metadata": {},
   "outputs": [
    {
     "name": "stdout",
     "output_type": "stream",
     "text": [
      "make: \"Toyota\", model: \"Camry\", year: 2020\n"
     ]
    }
   ],
   "source": [
    "class Car:\n",
    "    def __init__(self, make, model, year):\n",
    "        self.make = make\n",
    "        self.model = model\n",
    "        self.year = year\n",
    "\n",
    "    def __repr__(self):\n",
    "        return f'make: \"{self.make}\", model: \"{self.model}\", year: {self.year}'\n",
    "\n",
    "# Example Test Case\n",
    "car = Car(\"Toyota\", \"Camry\", 2020)\n",
    "print(car)\n"
   ]
  },
  {
   "cell_type": "code",
   "execution_count": 19,
   "id": "ffe737b0",
   "metadata": {},
   "outputs": [
    {
     "name": "stdout",
     "output_type": "stream",
     "text": [
      "Customer(name=John Doe, email=john.doe@example.com)\n"
     ]
    }
   ],
   "source": [
    "import json\n",
    "\n",
    "class Customer:\n",
    "    def __init__(self, name, email):\n",
    "        self.__name = name\n",
    "        self.__email = email\n",
    "\n",
    "    def __str__(self):\n",
    "        return f\"Customer(name={self.__name}, email={self.__email})\"\n",
    "\n",
    "    # Optionally, you can add methods to manipulate the data\n",
    "    def update_email(self, new_email):\n",
    "        self.__email = new_email\n",
    "\n",
    "# Example Test Case\n",
    "json_content = '{\"name\": \"John Doe\", \"email\": \"john.doe@example.com\"}'\n",
    "customer_data = json.loads(json_content)\n",
    "\n",
    "customer = Customer(**customer_data)\n",
    "print(customer)\n"
   ]
  },
  {
   "cell_type": "code",
   "execution_count": 7,
   "id": "c267e685",
   "metadata": {},
   "outputs": [
    {
     "name": "stdout",
     "output_type": "stream",
     "text": [
      "name: \"John Doe\", age: 30, address: \"123 Main St\"\n"
     ]
    }
   ],
   "source": [
    "class Person:\n",
    "    def __init__(self, name, age, address):\n",
    "        self.name = name\n",
    "        self.age = age\n",
    "        self.address = address\n",
    "\n",
    "    def __repr__(self):\n",
    "        return f'name: \"{self.name}\", age: {self.age}, address: \"{self.address}\"'\n",
    "\n",
    "# Example Test Case\n",
    "if __name__ == \"__main__\":\n",
    "    person = Person(\"John Doe\", 30, \"123 Main St\")\n",
    "    print(person)\n"
   ]
  },
  {
   "cell_type": "code",
   "execution_count": 8,
   "id": "54b5c383",
   "metadata": {},
   "outputs": [
    {
     "name": "stdout",
     "output_type": "stream",
     "text": [
      "area: 50.27, circumference: 25.13\n"
     ]
    }
   ],
   "source": [
    "import math\n",
    "\n",
    "class Circle:\n",
    "    def __init__(self, radius):\n",
    "        self.radius = radius\n",
    "\n",
    "    def area(self):\n",
    "        return round(math.pi * self.radius ** 2, 2)\n",
    "\n",
    "    def circumference(self):\n",
    "        return round(2 * math.pi * self.radius, 2)\n",
    "\n",
    "    def __repr__(self):\n",
    "        return f'area: {self.area()}, circumference: {self.circumference()}'\n",
    "\n",
    "# Example Test Case\n",
    "if __name__ == \"__main__\":\n",
    "    circle = Circle(4)\n",
    "    print(circle)\n"
   ]
  },
  {
   "cell_type": "code",
   "execution_count": 20,
   "id": "cec4d964",
   "metadata": {},
   "outputs": [
    {
     "name": "stdout",
     "output_type": "stream",
     "text": [
      "Product(name=Laptop, price=1000.0, quantity=5)\n",
      "Product(name=Phone, price=500.0, quantity=10)\n"
     ]
    }
   ],
   "source": [
    "import csv\n",
    "\n",
    "class Product:\n",
    "    def __init__(self, name, price, quantity):\n",
    "        self.__name = name\n",
    "        self.__price = price\n",
    "        self.__quantity = quantity\n",
    "\n",
    "    def __str__(self):\n",
    "        return f\"Product(name={self.__name}, price={self.__price}, quantity={self.__quantity})\"\n",
    "\n",
    "# Function to read CSV content and create Product objects\n",
    "def read_products_from_csv(csv_content):\n",
    "    products = []\n",
    "    for row in csv_content:\n",
    "        name, price, quantity = row\n",
    "        product = Product(name, float(price), int(quantity))\n",
    "        products.append(product)\n",
    "    return products\n",
    "\n",
    "# Example Test Case\n",
    "csv_content = [[\"Laptop\", 1000, 5], [\"Phone\", 500, 10]]\n",
    "\n",
    "products = read_products_from_csv(csv_content)\n",
    "\n",
    "for product in products:\n",
    "    print(product)\n"
   ]
  },
  {
   "cell_type": "code",
   "execution_count": 10,
   "id": "641d3bde",
   "metadata": {},
   "outputs": [
    {
     "name": "stdout",
     "output_type": "stream",
     "text": [
      "title: \"Inception\", director: \"Christopher Nolan\", rating: 8.8\n"
     ]
    }
   ],
   "source": [
    "class Movie:\n",
    "    def __init__(self, title, director, rating):\n",
    "        self.title = title\n",
    "        self.director = director\n",
    "        self.rating = rating\n",
    "\n",
    "    def __repr__(self):\n",
    "        return f'title: \"{self.title}\", director: \"{self.director}\", rating: {self.rating}'\n",
    "\n",
    "# Example Test Case\n",
    "if __name__ == \"__main__\":\n",
    "    movie = Movie(\"Inception\", \"Christopher Nolan\", 8.8)\n",
    "    print(movie)\n"
   ]
  },
  {
   "cell_type": "code",
   "execution_count": 11,
   "id": "62addf94",
   "metadata": {},
   "outputs": [
    {
     "name": "stdout",
     "output_type": "stream",
     "text": [
      "Circle area: 50.27, Circle perimeter: 25.13\n",
      "Square area: 25, Square perimeter: 20\n"
     ]
    }
   ],
   "source": [
    "import math\n",
    "\n",
    "class Shape:\n",
    "    def area(self):\n",
    "        raise NotImplementedError(\"Subclasses should implement this!\")\n",
    "\n",
    "    def perimeter(self):\n",
    "        raise NotImplementedError(\"Subclasses should implement this!\")\n",
    "\n",
    "class Circle(Shape):\n",
    "    def __init__(self, radius):\n",
    "        self.radius = radius\n",
    "\n",
    "    def area(self):\n",
    "        return round(math.pi * self.radius ** 2, 2)\n",
    "\n",
    "    def perimeter(self):\n",
    "        return round(2 * math.pi * self.radius, 2)\n",
    "\n",
    "    def __repr__(self):\n",
    "        return f'Circle area: {self.area()}, Circle perimeter: {self.perimeter()}'\n",
    "\n",
    "class Square(Shape):\n",
    "    def __init__(self, side):\n",
    "        self.side = side\n",
    "\n",
    "    def area(self):\n",
    "        return self.side ** 2\n",
    "\n",
    "    def perimeter(self):\n",
    "        return 4 * self.side\n",
    "\n",
    "    def __repr__(self):\n",
    "        return f'Square area: {self.area()}, Square perimeter: {self.perimeter()}'\n",
    "\n",
    "# Example Test Case\n",
    "if __name__ == \"__main__\":\n",
    "    circle = Circle(4)\n",
    "    square = Square(5)\n",
    "    print(circle)\n",
    "    print(square)\n"
   ]
  },
  {
   "cell_type": "code",
   "execution_count": 12,
   "id": "a694766f",
   "metadata": {},
   "outputs": [
    {
     "name": "stdout",
     "output_type": "stream",
     "text": [
      "Manager(name=\"John Doe\", department=\"Sales\")\n",
      "Engineer(name=\"Jane Smith\", field=\"Software\")\n"
     ]
    }
   ],
   "source": [
    "class Employee:\n",
    "    def __init__(self, name):\n",
    "        self.name = name\n",
    "\n",
    "    def __repr__(self):\n",
    "        return f'Employee: {self.name}'\n",
    "\n",
    "class Manager(Employee):\n",
    "    def __init__(self, name, department):\n",
    "        super().__init__(name)\n",
    "        self.department = department\n",
    "\n",
    "    def __repr__(self):\n",
    "        return f'Manager(name=\"{self.name}\", department=\"{self.department}\")'\n",
    "\n",
    "class Engineer(Employee):\n",
    "    def __init__(self, name, field):\n",
    "        super().__init__(name)\n",
    "        self.field = field\n",
    "\n",
    "    def __repr__(self):\n",
    "        return f'Engineer(name=\"{self.name}\", field=\"{self.field}\")'\n",
    "\n",
    "# Example Test Case\n",
    "if __name__ == \"__main__\":\n",
    "    manager = Manager(\"John Doe\", \"Sales\")\n",
    "    engineer = Engineer(\"Jane Smith\", \"Software\")\n",
    "    print(manager)\n",
    "    print(engineer)\n"
   ]
  },
  {
   "cell_type": "code",
   "execution_count": 13,
   "id": "b39e362c",
   "metadata": {},
   "outputs": [
    {
     "name": "stdout",
     "output_type": "stream",
     "text": [
      "Triangle area: 7.5\n",
      "Rectangle area: 8\n"
     ]
    }
   ],
   "source": [
    "class Shape:\n",
    "    def area(self):\n",
    "        pass\n",
    "\n",
    "class Triangle(Shape):\n",
    "    def __init__(self, base, height):\n",
    "        self.base = base\n",
    "        self.height = height\n",
    "\n",
    "    def area(self):\n",
    "        return 0.5 * self.base * self.height\n",
    "\n",
    "class Rectangle(Shape):\n",
    "    def __init__(self, length, width):\n",
    "        self.length = length\n",
    "        self.width = width\n",
    "\n",
    "    def area(self):\n",
    "        return self.length * self.width\n",
    "\n",
    "# Example Test Case\n",
    "triangle = Triangle(base=5, height=3)\n",
    "rectangle = Rectangle(length=4, width=2)\n",
    "\n",
    "print(f\"Triangle area: {triangle.area()}\")\n",
    "print(f\"Rectangle area: {rectangle.area()}\")\n"
   ]
  },
  {
   "cell_type": "code",
   "execution_count": 14,
   "id": "7f7b2e51",
   "metadata": {},
   "outputs": [
    {
     "name": "stdout",
     "output_type": "stream",
     "text": [
      "Bird: Parrot, Can Fly: True\n",
      "Fish: Goldfish, Can Swim: True\n"
     ]
    }
   ],
   "source": [
    "class Animal:\n",
    "    def __init__(self, name):\n",
    "        self.name = name\n",
    "\n",
    "class Bird(Animal):\n",
    "    def __init__(self, name, can_fly):\n",
    "        super().__init__(name)\n",
    "        self.can_fly = can_fly\n",
    "\n",
    "    def __str__(self):\n",
    "        return f\"Bird: {self.name}, Can Fly: {self.can_fly}\"\n",
    "\n",
    "class Fish(Animal):\n",
    "    def __init__(self, name, can_swim):\n",
    "        super().__init__(name)\n",
    "        self.can_swim = can_swim\n",
    "\n",
    "    def __str__(self):\n",
    "        return f\"Fish: {self.name}, Can Swim: {self.can_swim}\"\n",
    "\n",
    "# Example Test Case\n",
    "bird = Bird(name=\"Parrot\", can_fly=True)\n",
    "fish = Fish(name=\"Goldfish\", can_swim=True)\n",
    "\n",
    "print(bird)\n",
    "print(fish)\n"
   ]
  },
  {
   "cell_type": "code",
   "execution_count": 15,
   "id": "8e1858e3",
   "metadata": {},
   "outputs": [
    {
     "name": "stdout",
     "output_type": "stream",
     "text": [
      "Product(name=Laptop, price=1000, quantity=5)\n"
     ]
    }
   ],
   "source": [
    "import json\n",
    "\n",
    "class Product:\n",
    "    def __init__(self, name, price, quantity):\n",
    "        self.__name = name\n",
    "        self.__price = price\n",
    "        self.__quantity = quantity\n",
    "\n",
    "    def __str__(self):\n",
    "        return f\"Product(name={self.__name}, price={self.__price}, quantity={self.__quantity})\"\n",
    "\n",
    "# Example Test Case\n",
    "json_content = '{\"name\": \"Laptop\", \"price\": 1000, \"quantity\": 5}'\n",
    "product_data = json.loads(json_content)\n",
    "\n",
    "product = Product(**product_data)\n",
    "print(product)\n"
   ]
  },
  {
   "cell_type": "code",
   "execution_count": 16,
   "id": "7d08dd16",
   "metadata": {},
   "outputs": [
    {
     "name": "stdout",
     "output_type": "stream",
     "text": [
      "Car: Toyota Camry\n",
      "Bike: Yamaha MT-07\n"
     ]
    }
   ],
   "source": [
    "class Vehicle:\n",
    "    def __init__(self, make, model):\n",
    "        self.make = make\n",
    "        self.model = model\n",
    "\n",
    "class Car(Vehicle):\n",
    "    def __str__(self):\n",
    "        return f\"Car: {self.make} {self.model}\"\n",
    "\n",
    "class Bike(Vehicle):\n",
    "    def __str__(self):\n",
    "        return f\"Bike: {self.make} {self.model}\"\n",
    "\n",
    "class Truck(Vehicle):\n",
    "    def __str__(self):\n",
    "        return f\"Truck: {self.make} {self.model}\"\n",
    "\n",
    "# Example Test Case\n",
    "car = Car(make=\"Toyota\", model=\"Camry\")\n",
    "bike = Bike(make=\"Yamaha\", model=\"MT-07\")\n",
    "\n",
    "print(car)\n",
    "print(bike)\n"
   ]
  },
  {
   "cell_type": "code",
   "execution_count": 17,
   "id": "b4db56f4",
   "metadata": {},
   "outputs": [
    {
     "name": "stdout",
     "output_type": "stream",
     "text": [
      "username: john_doe, password: ******\n"
     ]
    }
   ],
   "source": [
    "class User:\n",
    "    def __init__(self, username, password):\n",
    "        self.username = username\n",
    "        self.__password = password\n",
    "\n",
    "    def get_password(self):\n",
    "        return \"******\"\n",
    "\n",
    "    def __str__(self):\n",
    "        return f\"username: {self.username}, password: {self.get_password()}\"\n",
    "\n",
    "# Example Test Case\n",
    "user = User(username=\"john_doe\", password=\"secure123\")\n",
    "print(user)\n"
   ]
  }
 ],
 "metadata": {
  "kernelspec": {
   "display_name": "Python 3 (ipykernel)",
   "language": "python",
   "name": "python3"
  },
  "language_info": {
   "codemirror_mode": {
    "name": "ipython",
    "version": 3
   },
   "file_extension": ".py",
   "mimetype": "text/x-python",
   "name": "python",
   "nbconvert_exporter": "python",
   "pygments_lexer": "ipython3",
   "version": "3.11.4"
  }
 },
 "nbformat": 4,
 "nbformat_minor": 5
}

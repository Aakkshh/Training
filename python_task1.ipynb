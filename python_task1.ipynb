{
 "cells": [
  {
   "cell_type": "markdown",
   "metadata": {},
   "source": [
    "Prime Numbers Between 2 numbers"
   ]
  },
  {
   "cell_type": "code",
   "execution_count": 1,
   "metadata": {},
   "outputs": [
    {
     "name": "stdout",
     "output_type": "stream",
     "text": [
      "prime numbers are : [23,]\n"
     ]
    }
   ],
   "source": [
    "def prime(x, y):\n",
    "    prime_result = []\n",
    "    for i in range(x, y):\n",
    "        if i == 0 or i == 1:\n",
    "            continue\n",
    "        else:\n",
    "            for j in range(2,int(i/2)+1):\n",
    "                if i % j == 0:\n",
    "                    break\n",
    "            else:\n",
    "                prime_result.append(i)\n",
    "    return prime_result\n",
    "\n",
    "x = 10\n",
    "y = 30\n",
     list_prime = []
     prime_list = []
    "if len(prime_list) == 0:\n",
    "    print(\"no prime number in given range\")\n",
    "else:\n",
    "    print(\"prime numbers are :\",prime_list)\n"
   ]
  },
  {
   "cell_type": "markdown",
   "metadata": {},
   "source": [
    "Fine n number that are Prime"
   ]
  },
  {
   "cell_type": "code",
   "execution_count": 3,
   "metadata": {},
   "outputs": [],
   "source": [
    "def Prime(n):  \n",
    "    for i in range(2,n//2+1):  \n",
    "        if(n%i==0):  \n",
    "            return(0)  \n",
    "    return(1)  \n",
    "  \n",
    "N = int(input(\"Enter N:\"))  \n",
    "i=2 \n",
    "lst=[] \n",
    "while(1):  \n",
    "    if(Prime(i)):  \n",
    "        lst.append(i) \n",
    "        if(len(lst) == N): \n",
    "            break \n",
    "    i+=1 \n",
    "print(\"First \"+str(N)+\" Prime numbers are:\",lst) "
   ]
  },
  {
   "cell_type": "markdown",
   "metadata": {},
   "source": [
    "find the longest word in a given sentence"
   ]
  },
  {
   "cell_type": "code",
   "execution_count": null,
   "metadata": {},
   "outputs": [],
   "source": [
    "def longest_word(input_sen):\n",
    "    #sored function to sort in ascending order\n",
    "    input_sen = sorted(input_sen, key=len)\n",
    "\n",
    "    print(input_sen[-1])\n",
    "\n",
    "if __name__ == \"__main__\":\n",
    "    input_sen = \"the quick brown fox jumps over the lazy dog\"\n",
    "    w =  list(input_sen.split(\" \"))\n",
    "    longest_word(w)"
   ]
  },
  {
   "cell_type": "markdown",
   "metadata": {},
   "source": [
    "if two given strings are anagrams of each other"
   ]
  },
  {
   "cell_type": "code",
   "execution_count": null,
   "metadata": {},
   "outputs": [],
   "source": [
    "def anagram_s(string1,string2):\n",
    "    if(sorted(string1) == sorted(string2)):\n",
    "        print(\"True\")\n",
    "    else:\n",
    "        print(\"False\")\n",
    "string1=\"listen\"\n",
    "string2=\"silent\"  \n",
    "anagram_s(string1,string2)"
   ]
  },
  {
   "cell_type": "markdown",
   "metadata": {},
   "source": [
    "Booleans A"
   ]
  },
  {
   "cell_type": "code",
   "execution_count": null,
   "metadata": {},
   "outputs": [],
   "source": [
    "def count(lst):\n",
    "    return sum(bool(i) for i in lst)\n",
    "lst = [True, False, True, True, False]\n",
    "print(count(lst))"
   ]
  },
  {
   "cell_type": "markdown",
   "metadata": {},
   "source": [
    "Booleans B"
   ]
  },
  {
   "cell_type": "code",
   "execution_count": null,
   "metadata": {},
   "outputs": [],
   "source": []
  },
  {
   "cell_type": "markdown",
   "metadata": {},
   "source": [
    "find the second largest element in a list"
   ]
  },
  {
   "cell_type": "code",
   "execution_count": null,
   "metadata": {},
   "outputs": [],
   "source": [
    "n = [10, 20, 4, 45, 99]\n",
    "n.sort()\n",
    "print(n[-2])"
   ]
  },
  {
   "cell_type": "markdown",
   "metadata": {},
   "source": [
    "s"
   ]
  },
  {
   "cell_type": "code",
   "execution_count": null,
   "metadata": {},
   "outputs": [],
   "source": []
  }
 ],
 "metadata": {
  "kernelspec": {
   "display_name": "Python 3",
   "language": "python",
   "name": "python3"
  },
  "language_info": {
   "codemirror_mode": {
    "name": "ipython",
    "version": 3
   },
   "file_extension": ".py",
   "mimetype": "text/x-python",
   "name": "python",
   "nbconvert_exporter": "python",
   "pygments_lexer": "ipython3",
   "version": "3.10.7"
  }
 },
 "nbformat": 4,
 "nbformat_minor": 2
}

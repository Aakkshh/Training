{
 "cells": [
  {
   "attachments": {},
   "cell_type": "markdown",
   "metadata": {},
   "source": [
    "OOPS Concept Assignment 1"
   ]
  },
  {
   "cell_type": "code",
   "execution_count": 1,
   "metadata": {},
   "outputs": [
    {
     "name": "stdout",
     "output_type": "stream",
     "text": [
      "name: \"Alice\", age: 20, grades: [90, 85, 88]\n"
     ]
    }
   ],
   "source": [
    "class Student:\n",
    "    def __init__(self, name, age, grades):\n",
    "        self.name = name\n",
    "        self.age = age\n",
    "        self.grades = grades\n",
    "\n",
    "    def display_student(self):\n",
    "        return f'name: \"{self.name}\", age: {self.age}, grades: {self.grades}'\n",
    "\n",
    "# Ex\n",
    "name = \"Alice\"\n",
    "age = 20\n",
    "grades = [90, 85, 88]\n",
    "\n",
    "student = Student(name, age, grades)\n",
    "print(student.display_student())\n"
   ]
  },
  {
   "cell_type": "code",
   "execution_count": 2,
   "metadata": {},
   "outputs": [
    {
     "name": "stdout",
     "output_type": "stream",
     "text": [
      "Employee(name=\"John Doe\", position=\"Manager\", salary=75000)\n",
      "Employee(name=\"Jane Smith\", position=\"Engineer\", salary=80000)\n"
     ]
    }
   ],
   "source": [
    "class Employee:\n",
    "    def __init__(self, name, position, salary):\n",
    "        self.name = name\n",
    "        self.position = position\n",
    "        self.salary = salary\n",
    "\n",
    "    def __repr__(self):\n",
    "        return f'Employee(name=\"{self.name}\", position=\"{self.position}\", salary={self.salary})'\n",
    "\n",
    "def create_employees(csv_content):\n",
    "    employees = []\n",
    "    for row in csv_content:\n",
    "        name, position, salary = row\n",
    "        employee = Employee(name, position, salary)\n",
    "        employees.append(employee)\n",
    "    return employees\n",
    "\n",
    "# Ex\n",
    "csv_content = [[\"John Doe\", \"Manager\", 75000],\n",
    "               [\"Jane Smith\", \"Engineer\", 80000]]\n",
    "\n",
    "employees = create_employees(csv_content)\n",
    "for employee in employees:\n",
    "    print(employee)\n"
   ]
  },
  {
   "cell_type": "code",
   "execution_count": 3,
   "metadata": {},
   "outputs": [
    {
     "name": "stdout",
     "output_type": "stream",
     "text": [
      "account_number: \"12345678\", balance: 1000\n"
     ]
    }
   ],
   "source": [
    "class BankAccount:\n",
    "    def __init__(self, account_number, initial_balance=0):\n",
    "        self.account_number = account_number\n",
    "        self.balance = initial_balance\n",
    "\n",
    "    def deposit(self, amount):\n",
    "        if amount > 0:\n",
    "            self.balance += amount\n",
    "        else:\n",
    "            print(\"Deposit amount must be positive.\")\n",
    "\n",
    "    def withdraw(self, amount):\n",
    "        if amount > 0:\n",
    "            if amount <= self.balance:\n",
    "                self.balance -= amount\n",
    "            else:\n",
    "                print(\"Insufficient funds.\")\n",
    "        else:\n",
    "            print(\"Withdrawal amount must be positive.\")\n",
    "\n",
    "    def check_balance(self):\n",
    "        return self.balance\n",
    "\n",
    "    def __repr__(self):\n",
    "        return f'account_number: \"{self.account_number}\", balance: {self.balance}'\n",
    "\n",
    "# Example Test Case\n",
    "account_number = \"12345678\"\n",
    "initial_balance = 1000\n",
    "\n",
    "account = BankAccount(account_number, initial_balance)\n",
    "print(account)\n"
   ]
  },
  {
   "cell_type": "code",
   "execution_count": 4,
   "metadata": {},
   "outputs": [
    {
     "name": "stdout",
     "output_type": "stream",
     "text": [
      "area: 15, perimeter: 16\n"
     ]
    }
   ],
   "source": [
    "class Rect:\n",
    "    def __init__(self, length, width):\n",
    "        self.length = length\n",
    "        self.width = width\n",
    "\n",
    "    def calculate_area(self):\n",
    "        return self.length * self.width\n",
    "\n",
    "    def calculate_perimeter(self):\n",
    "        return 2 * (self.length + self.width)\n",
    "\n",
    "    def __repr__(self):\n",
    "        return f'length: {self.length}, width: {self.width}, area: {self.calculate_area()}, perimeter: {self.calculate_perimeter()}'\n",
    "\n",
    "# Example Test Case\n",
    "length = 5\n",
    "width = 3\n",
    "\n",
    "rectangle = Rect(length, width)\n",
    "print(f'area: {rectangle.calculate_area()}, perimeter: {rectangle.calculate_perimeter()}')\n"
   ]
  },
  {
   "cell_type": "code",
   "execution_count": 5,
   "metadata": {},
   "outputs": [
    {
     "name": "stdout",
     "output_type": "stream",
     "text": [
      "make: \"Toyota\", model: \"Camry\", year: 2020\n"
     ]
    }
   ],
   "source": [
    "class Car:\n",
    "    def __init__(self, make, model, year):\n",
    "        self.make = make\n",
    "        self.model = model\n",
    "        self.year = year\n",
    "\n",
    "    def __repr__(self):\n",
    "        return f'make: \"{self.make}\", model: \"{self.model}\", year: {self.year}'\n",
    "\n",
    "# Ex\n",
    "make = \"Toyota\"\n",
    "model = \"Camry\"\n",
    "year = 2020\n",
    "\n",
    "car = Car(make, model, year)\n",
    "print(car)\n"
   ]
  },
  {
   "cell_type": "code",
   "execution_count": 7,
   "metadata": {},
   "outputs": [
    {
     "name": "stdout",
     "output_type": "stream",
     "text": [
      "Customer(name=\"John Doe\", email=\"john.doe@example.com\")\n"
     ]
    }
   ],
   "source": [
    "import json\n",
    "\n",
    "class Customer:\n",
    "    def __init__(self, name, email):\n",
    "        self.name = name\n",
    "        self.email = email\n",
    "\n",
    "    def __repr__(self):\n",
    "        return f'Customer(name=\"{self.name}\", email=\"{self.email}\")'\n",
    "\n",
    "def create_customer_from_json(json_content):\n",
    "    data = json.loads(json_content)\n",
    "    customer = Customer(data[\"name\"], data[\"email\"])\n",
    "    return customer\n",
    "\n",
    "# Ex\n",
    "json_content = '{\"name\": \"John Doe\", \"email\": \"john.doe@example.com\"}'\n",
    "\n",
    "customer = create_customer_from_json(json_content)\n",
    "print(customer)\n"
   ]
  },
  {
   "cell_type": "code",
   "execution_count": 8,
   "metadata": {},
   "outputs": [
    {
     "name": "stdout",
     "output_type": "stream",
     "text": [
      "name: \"John Doe\", age: 30, address: \"123 Main St\"\n"
     ]
    }
   ],
   "source": [
    "class Person:\n",
    "    def __init__(self, name, age, address):\n",
    "        self.name = name\n",
    "        self.age = age\n",
    "        self.address = address\n",
    "\n",
    "    def __repr__(self):\n",
    "        return f'name: \"{self.name}\", age: {self.age}, address: \"{self.address}\"'\n",
    "\n",
    "# Ex\n",
    "name = \"John Doe\"\n",
    "age = 30\n",
    "address = \"123 Main St\"\n",
    "\n",
    "person = Person(name, age, address)\n",
    "print(person)\n"
   ]
  },
  {
   "cell_type": "code",
   "execution_count": 9,
   "metadata": {},
   "outputs": [
    {
     "name": "stdout",
     "output_type": "stream",
     "text": [
      "area: 50.27, circumference: 25.13\n"
     ]
    }
   ],
   "source": [
    "import math\n",
    "\n",
    "class Circle:\n",
    "    def __init__(self, radius):\n",
    "        self.radius = radius\n",
    "\n",
    "    def calculate_area(self):\n",
    "        return round(math.pi * self.radius ** 2, 2)\n",
    "\n",
    "    def calculate_circumference(self):\n",
    "        return round(2 * math.pi * self.radius, 2)\n",
    "\n",
    "    def __repr__(self):\n",
    "        return (f'Circle with radius: {self.radius}, '\n",
    "                f'area: {self.calculate_area()}, '\n",
    "                f'circumference: {self.calculate_circumference()}')\n",
    "\n",
    "# Ex\n",
    "radius = 4\n",
    "\n",
    "circle = Circle(radius)\n",
    "print(f'area: {circle.calculate_area()}, circumference: {circle.calculate_circumference()}')\n"
   ]
  },
  {
   "cell_type": "code",
   "execution_count": 10,
   "metadata": {},
   "outputs": [
    {
     "name": "stdout",
     "output_type": "stream",
     "text": [
      "Product(name=\"Laptop\", price=1000, quantity=5)\n",
      "Product(name=\"Phone\", price=500, quantity=10)\n"
     ]
    }
   ],
   "source": [
    "class Product:\n",
    "    def __init__(self, name, price, quantity):\n",
    "        self.name = name\n",
    "        self.price = price\n",
    "        self.quantity = quantity\n",
    "\n",
    "    def __repr__(self):\n",
    "        return f'Product(name=\"{self.name}\", price={self.price}, quantity={self.quantity})'\n",
    "\n",
    "def create_products_from_file(csv_content):\n",
    "    products = []\n",
    "    for row in csv_content:\n",
    "        name, price, quantity = row\n",
    "        product = Product(name, price, quantity)\n",
    "        products.append(product)\n",
    "    return products\n",
    "\n",
    "# Ex\n",
    "csv_content = [[\"Laptop\", 1000, 5], [\"Phone\", 500, 10]]\n",
    "\n",
    "products = create_products_from_file(csv_content)\n",
    "for product in products:\n",
    "    print(product)\n"
   ]
  },
  {
   "cell_type": "code",
   "execution_count": 11,
   "metadata": {},
   "outputs": [
    {
     "name": "stdout",
     "output_type": "stream",
     "text": [
      "title: \"Inception\", director: \"Christopher Nolan\", rating: 8.8\n"
     ]
    }
   ],
   "source": [
    "class Movie:\n",
    "    def __init__(self, title, director, rating):\n",
    "        self.title = title\n",
    "        self.director = director\n",
    "        self.rating = rating\n",
    "\n",
    "    def __repr__(self):\n",
    "        return f'title: \"{self.title}\", director: \"{self.director}\", rating: {self.rating}'\n",
    "\n",
    "# Ex\n",
    "title = \"Inception\"\n",
    "director = \"Christopher Nolan\"\n",
    "rating = 8.8\n",
    "\n",
    "movie = Movie(title, director, rating)\n",
    "print(movie)\n"
   ]
  },
  {
   "attachments": {},
   "cell_type": "markdown",
   "metadata": {},
   "source": [
    "Class Hierarchies and Inheritance"
   ]
  },
  {
   "cell_type": "code",
   "execution_count": 13,
   "metadata": {},
   "outputs": [
    {
     "name": "stdout",
     "output_type": "stream",
     "text": [
      "Circle area: 50.27, Circle perimeter: 25.13\n",
      "Square area: 25, Square perimeter: 20\n"
     ]
    }
   ],
   "source": [
    "import math\n",
    "\n",
    "class Shape:\n",
    "    def calculate_area(self):\n",
    "        raise NotImplementedError(\"Subclasses should implement this method\")\n",
    "\n",
    "    def calculate_perimeter(self):\n",
    "        raise NotImplementedError(\"Subclasses should implement this method\")\n",
    "\n",
    "class Circle(Shape):\n",
    "    def __init__(self, radius):\n",
    "        self.radius = radius\n",
    "\n",
    "    def calculate_area(self):\n",
    "        return round(math.pi * self.radius ** 2, 2)\n",
    "\n",
    "    def calculate_perimeter(self):\n",
    "        return round(2 * math.pi * self.radius, 2)\n",
    "\n",
    "class Square(Shape):\n",
    "    def __init__(self, side):\n",
    "        self.side = side\n",
    "\n",
    "    def calculate_area(self):\n",
    "        return self.side ** 2\n",
    "\n",
    "    def calculate_perimeter(self):\n",
    "        return 4 * self.side\n",
    "\n",
    "# Ex\n",
    "circle = Circle(radius=4)\n",
    "square = Square(side=5)\n",
    "\n",
    "print(f'Circle area: {circle.calculate_area()}, Circle perimeter: {circle.calculate_perimeter()}')\n",
    "print(f'Square area: {square.calculate_area()}, Square perimeter: {square.calculate_perimeter()}')\n"
   ]
  },
  {
   "cell_type": "code",
   "execution_count": 14,
   "metadata": {},
   "outputs": [
    {
     "name": "stdout",
     "output_type": "stream",
     "text": [
      "Manager: John Doe, Department: Sales\n",
      "Engineer: Jane Smith, Field: Software\n"
     ]
    }
   ],
   "source": [
    "class Employee:\n",
    "    def __init__(self, name):\n",
    "        self.name = name\n",
    "\n",
    "    def __repr__(self):\n",
    "        return f'Employee: {self.name}'\n",
    "\n",
    "class Manager(Employee):\n",
    "    def __init__(self, name, department):\n",
    "        super().__init__(name)\n",
    "        self.department = department\n",
    "\n",
    "    def __repr__(self):\n",
    "        return f'Manager: {self.name}, Department: {self.department}'\n",
    "\n",
    "class Engineer(Employee):\n",
    "    def __init__(self, name, field):\n",
    "        super().__init__(name)\n",
    "        self.field = field\n",
    "\n",
    "    def __repr__(self):\n",
    "        return f'Engineer: {self.name}, Field: {self.field}'\n",
    "\n",
    "# Ex\n",
    "manager = Manager(name=\"John Doe\", department=\"Sales\")\n",
    "engineer = Engineer(name=\"Jane Smith\", field=\"Software\")\n",
    "\n",
    "print(manager)\n",
    "print(engineer)\n"
   ]
  },
  {
   "cell_type": "code",
   "execution_count": 15,
   "metadata": {},
   "outputs": [
    {
     "name": "stdout",
     "output_type": "stream",
     "text": [
      "Triangle area: 7.5\n",
      "Rectangle area: 8\n"
     ]
    }
   ],
   "source": [
    "class Shape:\n",
    "    def calculate_area(self):\n",
    "        raise NotImplementedError(\"Subclasses must implement this method.\")\n",
    "\n",
    "class Triangle(Shape):\n",
    "    def __init__(self, base, height):\n",
    "        self.base = base\n",
    "        self.height = height\n",
    "\n",
    "    def calculate_area(self):\n",
    "        \n",
    "        return 0.5 * self.base * self.height\n",
    "\n",
    "class Rectangle(Shape):\n",
    "    def __init__(self, length, width):\n",
    "        self.length = length\n",
    "        self.width = width\n",
    "\n",
    "    def calculate_area(self):\n",
    "        \n",
    "        return self.length * self.width\n",
    "\n",
    "# Ex\n",
    "triangle = Triangle(base=5, height=3)\n",
    "rectangle = Rectangle(length=4, width=2)\n",
    "\n",
    "print(f'Triangle area: {triangle.calculate_area()}')\n",
    "print(f'Rectangle area: {rectangle.calculate_area()}')\n"
   ]
  },
  {
   "cell_type": "code",
   "execution_count": 16,
   "metadata": {},
   "outputs": [
    {
     "name": "stdout",
     "output_type": "stream",
     "text": [
      "Bird: Parrot, Can Fly: True\n",
      "Fish: Goldfish, Can Swim: True\n"
     ]
    }
   ],
   "source": [
    "class Animal:\n",
    "    def __init__(self, name):\n",
    "        self.name = name\n",
    "\n",
    "    def __repr__(self):\n",
    "        return f'Animal: {self.name}'\n",
    "\n",
    "class Bird(Animal):\n",
    "    def __init__(self, name, can_fly):\n",
    "        Animal.__init__(self, name)  # Explicitly call the base class constructor\n",
    "        self.can_fly = can_fly\n",
    "\n",
    "    def __repr__(self):\n",
    "        return f'Bird: {self.name}, Can Fly: {self.can_fly}'\n",
    "\n",
    "class Fish(Animal):\n",
    "    def __init__(self, name, can_swim):\n",
    "        Animal.__init__(self, name)  # Explicitly call the base class constructor\n",
    "        self.can_swim = can_swim\n",
    "\n",
    "    def __repr__(self):\n",
    "        return f'Fish: {self.name}, Can Swim: {self.can_swim}'\n",
    "\n",
    "# Ex\n",
    "bird = Bird(name=\"Parrot\", can_fly=True)\n",
    "fish = Fish(name=\"Goldfish\", can_swim=True)\n",
    "\n",
    "print(bird)\n",
    "print(fish)\n"
   ]
  },
  {
   "cell_type": "code",
   "execution_count": 17,
   "metadata": {},
   "outputs": [
    {
     "name": "stdout",
     "output_type": "stream",
     "text": [
      "Product(name=\"Laptop\", price=1000, quantity=5)\n"
     ]
    }
   ],
   "source": [
    "import json\n",
    "\n",
    "class Product:\n",
    "    def __init__(self, name, price, quantity):\n",
    "        self.name = name\n",
    "        self.price = price\n",
    "        self.quantity = quantity\n",
    "\n",
    "    def __repr__(self):\n",
    "        return f'Product(name=\"{self.name}\", price={self.price}, quantity={self.quantity})'\n",
    "\n",
    "def create_product_from_json(json_content):\n",
    "    data = json.loads(json_content)\n",
    "    return Product(name=data[\"name\"], price=data[\"price\"], quantity=data[\"quantity\"])\n",
    "\n",
    "# Ex\n",
    "json_content = '{\"name\": \"Laptop\", \"price\": 1000, \"quantity\": 5}'\n",
    "\n",
    "product = create_product_from_json(json_content)\n",
    "print(product)\n"
   ]
  },
  {
   "cell_type": "code",
   "execution_count": 18,
   "metadata": {},
   "outputs": [
    {
     "name": "stdout",
     "output_type": "stream",
     "text": [
      "Car: Toyota Camry\n",
      "Bike: Yamaha MT-07\n"
     ]
    }
   ],
   "source": [
    "class Vehicle:\n",
    "    def __init__(self, make, model):\n",
    "        self.make = make\n",
    "        self.model = model\n",
    "\n",
    "    def __repr__(self):\n",
    "        return f'{self.__class__.__name__}: {self.make} {self.model}'\n",
    "\n",
    "class Car(Vehicle):\n",
    "    pass\n",
    "\n",
    "class Bike(Vehicle):\n",
    "    pass\n",
    "\n",
    "class Truck(Vehicle):\n",
    "    pass\n",
    "\n",
    "# Ex\n",
    "car = Car(make=\"Toyota\", model=\"Camry\")\n",
    "bike = Bike(make=\"Yamaha\", model=\"MT-07\")\n",
    "\n",
    "print(car)\n",
    "print(bike)\n"
   ]
  },
  {
   "cell_type": "code",
   "execution_count": 19,
   "metadata": {},
   "outputs": [
    {
     "name": "stdout",
     "output_type": "stream",
     "text": [
      "username: \"john_doe\", password: \"******\"\n"
     ]
    }
   ],
   "source": [
    "class User:\n",
    "    def __init__(self, username, password):\n",
    "        self.username = username\n",
    "        self.__password = password  # Private attribute for password\n",
    "\n",
    "    def get_password(self):\n",
    "       \n",
    "        return '******'  # Mask the password \n",
    "\n",
    "    def set_password(self, new_password):\n",
    "       \n",
    "        self.__password = new_password\n",
    "\n",
    "    def __repr__(self):\n",
    "        return f'username: \"{self.username}\", password: \"{self.get_password()}\"'\n",
    "\n",
    "# Ex\n",
    "user = User(username=\"john_doe\", password=\"secure123\")\n",
    "print(user)\n"
   ]
  }
 ],
 "metadata": {
  "kernelspec": {
   "display_name": "Python 3",
   "language": "python",
   "name": "python3"
  },
  "language_info": {
   "codemirror_mode": {
    "name": "ipython",
    "version": 3
   },
   "file_extension": ".py",
   "mimetype": "text/x-python",
   "name": "python",
   "nbconvert_exporter": "python",
   "pygments_lexer": "ipython3",
   "version": "3.12.4"
  },
  "orig_nbformat": 4
 },
 "nbformat": 4,
 "nbformat_minor": 2
}

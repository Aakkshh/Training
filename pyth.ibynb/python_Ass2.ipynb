{
 "cells": [
  {
   "attachments": {},
   "cell_type": "markdown",
   "metadata": {},
   "source": [
    "Class Definition and Object Instantiation - Assignment 2"
   ]
  },
  {
   "cell_type": "code",
   "execution_count": 1,
   "metadata": {},
   "outputs": [
    {
     "name": "stdout",
     "output_type": "stream",
     "text": [
      "Library(name=\"City Library\", address=\"123 Main St\", books=['Book2'])\n"
     ]
    }
   ],
   "source": [
    "class Library:\n",
    "    def __init__(self, name, address):\n",
    "        self.name = name\n",
    "        self.address = address\n",
    "        self.books = []  # Initialize\n",
    "\n",
    "    def add_book(self, book):\n",
    "       # add book\n",
    "        if book not in self.books:\n",
    "            self.books.append(book)\n",
    "        else:\n",
    "            print(f'Book \"{book}\" is already in the library.')\n",
    "        #remove book\n",
    "    def remove_book(self, book):\n",
    "       \n",
    "        if book in self.books:\n",
    "            self.books.remove(book)\n",
    "        else:\n",
    "            print(f'Book \"{book}\" not found in the library.')\n",
    "\n",
    "    def __repr__(self):\n",
    "        return f'Library(name=\"{self.name}\", address=\"{self.address}\", books={self.books})'\n",
    "\n",
    "# Ex\n",
    "library = Library(name=\"City Library\", address=\"123 Main St\")\n",
    "\n",
    "library.add_book(\"Book1\")\n",
    "library.add_book(\"Book2\")\n",
    "library.remove_book(\"Book1\")\n",
    "\n",
    "print(library)\n"
   ]
  },
  {
   "cell_type": "code",
   "execution_count": 2,
   "metadata": {},
   "outputs": [
    {
     "name": "stdout",
     "output_type": "stream",
     "text": [
      "Address: \"456 Elm St\", Number of Rooms: 4, Price: 350000\n"
     ]
    }
   ],
   "source": [
    "class House:\n",
    "    def __init__(self, address, num_rooms, price):\n",
    "        self.address = address\n",
    "        self.num_rooms = num_rooms\n",
    "        self.price = price\n",
    "\n",
    "    def display_details(self):\n",
    "        #display\n",
    "        print(f'Address: \"{self.address}\", Number of Rooms: {self.num_rooms}, Price: {self.price}')\n",
    "\n",
    "# Ex\n",
    "house = House(address=\"456 Elm St\", num_rooms=4, price=350000)\n",
    "house.display_details()\n"
   ]
  },
  {
   "attachments": {},
   "cell_type": "markdown",
   "metadata": {},
   "source": [
    "Instance Methods"
   ]
  },
  {
   "cell_type": "code",
   "execution_count": 5,
   "metadata": {},
   "outputs": [
    {
     "name": "stdout",
     "output_type": "stream",
     "text": [
      "Email: newemail@email.com, Password: abcd\n"
     ]
    }
   ],
   "source": [
    "class User:\n",
    "    def __init__(self, username, email, password):\n",
    "        self.username = username\n",
    "        self.email = email\n",
    "        self.password = password\n",
    "\n",
    "    def update_email(self, new_email):\n",
    "        \n",
    "        self.email = new_email\n",
    "\n",
    "    def update_password(self, new_password):\n",
    "       \n",
    "        self.password = new_password\n",
    "\n",
    "    def display_details(self):\n",
    "       \n",
    "        print(f'Email: {self.email}, Password: {self.password}')\n",
    "\n",
    "# Ex\n",
    "user = User(username=\"username\", email=\"email@email.com\", password=\"1234\")\n",
    "user.update_email(\"newemail@email.com\")\n",
    "user.update_password(\"abcd\")\n",
    "user.display_details()\n"
   ]
  },
  {
   "cell_type": "code",
   "execution_count": 6,
   "metadata": {},
   "outputs": [
    {
     "name": "stdout",
     "output_type": "stream",
     "text": [
      "Name: Player1, Score: 10, Health: 90\n"
     ]
    }
   ],
   "source": [
    "class Player:\n",
    "    def __init__(self, name, score, health):\n",
    "        self.name = name\n",
    "        self.score = score\n",
    "        self.health = health\n",
    "\n",
    "    def increase_score(self, amount):\n",
    "        \n",
    "        self.score += amount\n",
    "\n",
    "    def decrease_health(self, amount):\n",
    "       \n",
    "        self.health -= amount\n",
    "        if self.health < 0:\n",
    "            self.health = 0  \n",
    "\n",
    "    def heal(self, amount):\n",
    "       \n",
    "        self.health += amount\n",
    "\n",
    "    def display_status(self):\n",
    "        \n",
    "        print(f'Name: {self.name}, Score: {self.score}, Health: {self.health}')\n",
    "\n",
    "# Ex\n",
    "player = Player(name=\"Player1\", score=0, health=100)\n",
    "player.increase_score(10)\n",
    "player.decrease_health(20)\n",
    "player.heal(10)\n",
    "player.display_status()\n"
   ]
  },
  {
   "cell_type": "code",
   "execution_count": 7,
   "metadata": {},
   "outputs": [
    {
     "name": "stdout",
     "output_type": "stream",
     "text": [
      "Balance: 1500\n",
      "Balance: 1300\n",
      "Insufficient funds.\n",
      "Balance: 1300\n"
     ]
    }
   ],
   "source": [
    "class BankAccount:\n",
    "    def __init__(self, account_number, balance):\n",
    "        self.account_number = account_number\n",
    "        self.balance = balance\n",
    "\n",
    "    def deposit(self, amount):\n",
    "        \"\"\"Deposit\"\"\"\n",
    "        if amount > 0:\n",
    "            self.balance += amount\n",
    "        else:\n",
    "            print(\"Deposit amount must be positive.\")\n",
    "\n",
    "    def withdraw(self, amount):\n",
    "        \"\"\"Withdraw\"\"\"\n",
    "        if amount > 0:\n",
    "            if self.balance >= amount:\n",
    "                self.balance -= amount\n",
    "            else:\n",
    "                print(\"Insufficient funds.\")\n",
    "        else:\n",
    "            print(\"Withdrawal amount must be positive.\")\n",
    "\n",
    "    def display_balance(self):\n",
    "        \"\"\"Current balance\"\"\"\n",
    "        print(f'Balance: {self.balance}')\n",
    "\n",
    "# Ex\n",
    "account = BankAccount(account_number=\"12345678\", balance=1000)\n",
    "\n",
    "# Methods\n",
    "account.deposit(500)  # Add funds\n",
    "account.display_balance()  # Should show 1500\n",
    "\n",
    "account.withdraw(200)  # Withdraw funds\n",
    "account.display_balance()  # Should show 1300\n",
    "\n",
    "account.withdraw(1500)  # Attempt to withdraw more than available balance\n",
    "account.display_balance()  # Should still show 1300, withdrawal should fail\n"
   ]
  },
  {
   "attachments": {},
   "cell_type": "markdown",
   "metadata": {},
   "source": [
    "Class Methods"
   ]
  },
  {
   "cell_type": "code",
   "execution_count": 8,
   "metadata": {},
   "outputs": [],
   "source": [
    "class Database:\n",
    "    connections = 0  # class variable to track the number of connections\n",
    "\n",
    "    @classmethod\n",
    "    def add_connection(cls):\n",
    "        cls.connections += 1\n",
    "\n"
   ]
  },
  {
   "cell_type": "code",
   "execution_count": 9,
   "metadata": {},
   "outputs": [],
   "source": [
    "class Pizza:\n",
    "    def __init__(self, name, ingredients):\n",
    "        self.name = name\n",
    "        self.ingredients = ingredients\n",
    "\n",
    "    @classmethod\n",
    "    def create_margherita(cls):\n",
    "        return cls(name=\"Margherita\", ingredients=[\"cheese\", \"tomato\"])\n",
    "\n",
    "    @classmethod\n",
    "    def create_pepperoni(cls):\n",
    "        return cls(name=\"Veggie Deluxe\", ingredients=[\"cheese\", \"veggies\"])\n"
   ]
  },
  {
   "cell_type": "code",
   "execution_count": 10,
   "metadata": {},
   "outputs": [],
   "source": [
    "class Library:\n",
    "    total_books = 0  # class variable to track the total number of books\n",
    "\n",
    "    @classmethod\n",
    "    def add_book(cls, number_of_books):\n",
    "        cls.total_books += number_of_books\n",
    "\n",
    "    @classmethod\n",
    "    def get_total_books(cls):\n",
    "        return cls.total_books\n"
   ]
  },
  {
   "attachments": {},
   "cell_type": "markdown",
   "metadata": {},
   "source": [
    "Static Methods"
   ]
  },
  {
   "cell_type": "code",
   "execution_count": 11,
   "metadata": {},
   "outputs": [],
   "source": [
    "class Calculator:\n",
    "    @staticmethod\n",
    "    def add(a, b):\n",
    "        return a + b\n",
    "\n",
    "    @staticmethod\n",
    "    def subtract(a, b):\n",
    "        return a - b\n",
    "\n",
    "    @staticmethod\n",
    "    def multiply(a, b):\n",
    "        return a * b\n",
    "\n",
    "    @staticmethod\n",
    "    def divide(a, b):\n",
    "        if b != 0:\n",
    "            return a / b\n",
    "        else:\n",
    "            return \"Division by zero is infinity\"\n",
    "\n"
   ]
  },
  {
   "cell_type": "code",
   "execution_count": 12,
   "metadata": {},
   "outputs": [],
   "source": [
    "class StringUtils:\n",
    "    @staticmethod\n",
    "    def reverse_string(s):\n",
    "        return s[::-1]\n",
    "\n",
    "    @staticmethod\n",
    "    def is_palindrome(s):\n",
    "        return s == s[::-1]\n",
    "\n"
   ]
  },
  {
   "cell_type": "code",
   "execution_count": 13,
   "metadata": {},
   "outputs": [],
   "source": [
    "class DateUtils:\n",
    "    @staticmethod\n",
    "    def is_leap_year(year):\n",
    "        return (year % 4 == 0 and year % 100 != 0) or (year % 400 == 0)\n",
    "\n",
    "    @staticmethod\n",
    "    def days_in_month(year, month):\n",
    "       \n",
    "        if month == 2:\n",
    "            return 29 if DateUtils.is_leap_year(year) else 28\n",
    "      \n",
    "        elif month in {4, 6, 9, 11}:\n",
    "            return 30\n",
    "       \n",
    "        elif month in {1, 3, 5, 7, 8, 10, 12}:\n",
    "            return 31\n",
    "        else:\n",
    "            return \"Invalid month\"\n"
   ]
  }
 ],
 "metadata": {
  "kernelspec": {
   "display_name": "Python 3",
   "language": "python",
   "name": "python3"
  },
  "language_info": {
   "codemirror_mode": {
    "name": "ipython",
    "version": 3
   },
   "file_extension": ".py",
   "mimetype": "text/x-python",
   "name": "python",
   "nbconvert_exporter": "python",
   "pygments_lexer": "ipython3",
   "version": "3.12.4"
  },
  "orig_nbformat": 4
 },
 "nbformat": 4,
 "nbformat_minor": 2
}

{
 "cells": [
  {
   "cell_type": "markdown",
   "metadata": {},
   "source": [
    "OOPS"
   ]
  },
  {
   "cell_type": "code",
   "execution_count": 8,
   "metadata": {},
   "outputs": [
    {
     "name": "stdout",
     "output_type": "stream",
     "text": [
      "Aakarshak\n"
     ]
    },
    {
     "data": {
      "text/plain": [
       "'My name is Aakarshak'"
      ]
     },
     "execution_count": 8,
     "metadata": {},
     "output_type": "execute_result"
    }
   ],
   "source": [
    "class Student: \n",
    "    def __init__(self, name, age, rollNo):\n",
    "        self.name = name\n",
    "        self.age = age\n",
    "        self.rollNo =rollNo\n",
    "        \n",
    "    def get_name(self):\n",
    "        return self.name\n",
    "    \n",
    "    def set_name(self):\n",
    "        \n",
    "    \n",
    "    def name_Yourslef(self):\n",
    "        return \"My name is Moskha\"\n",
    "    \n",
    "student = Student(\"Aakarshak\", 22, 1)\n",
    "print(student.name)\n",
    "student.name_Yourslef()"
   ]
  },
  {
   "cell_type": "markdown",
   "metadata": {},
   "source": [
    "# Inheritance"
   ]
  },
  {
   "cell_type": "code",
   "execution_count": 13,
   "metadata": {},
   "outputs": [
    {
     "data": {
      "text/plain": [
       "'Animal is Buddy'"
      ]
     },
     "execution_count": 13,
     "metadata": {},
     "output_type": "execute_result"
    }
   ],
   "source": [
    "class Animal:\n",
    "    #Base Class\n",
    "    def __init__(self, name, breed, age):\n",
    "        self.name = name\n",
    "        self.breed = breed\n",
    "        self.age = age\n",
    "        \n",
    "    def eat(self):\n",
    "        return f\"Animal is {self.name}\"\n",
    "    \n",
    "class Dog(Animal):\n",
    "    #Derived Class\n",
    "    def bark(self):\n",
    "        return f\"{self.name} is barking\"\n",
    "    \n",
    "class Cat(Animal):\n",
    "    #Derived Class\n",
    "    def meow(self):\n",
    "        return f\"{self.name} says meow\"\n",
    "        \n",
    "dog = Dog(\"Buddy\", \"german\", 5)\n",
    "dog.bark()\n",
    "dog.eat()\n",
    "# test.eat()"
   ]
  },
  {
   "cell_type": "markdown",
   "metadata": {},
   "source": [
    "# Polymorphism"
   ]
  },
  {
   "cell_type": "code",
   "execution_count": 15,
   "metadata": {},
   "outputs": [
    {
     "data": {
      "text/plain": [
       "'Birds are making sounds'"
      ]
     },
     "execution_count": 15,
     "metadata": {},
     "output_type": "execute_result"
    }
   ],
   "source": [
    "class Bird:\n",
    "    def sound(self):\n",
    "        return \"Birds are making sounds\"\n",
    "    \n",
    "class Dog:\n",
    "    def sound(self):\n",
    "        return \"Dogs are making sounds\"\n",
    "\n",
    "class Cat:\n",
    "    def sound(self):\n",
    "        return \"Cats are making sounds\"\n",
    "\n",
    "def animal_sounds(animal):\n",
    "    return animal.sound()\n",
    "\n",
    "bird = Bird()\n",
    "animal_sounds(bird)"
   ]
  },
  {
   "cell_type": "markdown",
   "metadata": {},
   "source": [
    "# Encapsulation"
   ]
  },
  {
   "cell_type": "code",
   "execution_count": 22,
   "metadata": {},
   "outputs": [
    {
     "data": {
      "text/plain": [
       "'Sanjana is a Person having age 24'"
      ]
     },
     "execution_count": 22,
     "metadata": {},
     "output_type": "execute_result"
    }
   ],
   "source": [
    "class Person:\n",
    "    def __init__(self, name, age):\n",
    "        self.name = name\n",
    "        self.__age = age #Private attribute\n",
    "        \n",
    "    def get_age(self):\n",
    "        return f\"{self.name} is a Person having age {self.__age}\"\n",
    "        \n",
    "    \n",
    "person = Person(\"Sanjana\", 24)\n",
    "person.get_age()"
   ]
  },
  {
   "cell_type": "markdown",
   "metadata": {},
   "source": [
    "# Abstraction"
   ]
  },
  {
   "cell_type": "code",
   "execution_count": 25,
   "metadata": {},
   "outputs": [
    {
     "data": {
      "text/plain": [
       "'Vehicle Starts'"
      ]
     },
     "execution_count": 25,
     "metadata": {},
     "output_type": "execute_result"
    }
   ],
   "source": [
    "from abc import ABC, abstractmethod\n",
    "\n",
    "class Vehicle:\n",
    "    @abstractmethod\n",
    "    def start(self):\n",
    "        return \"Vehicle Starts\"\n",
    "    \n",
    "    @abstractmethod\n",
    "    def stop(self):\n",
    "        pass\n",
    "    \n",
    "class Bike(Vehicle):\n",
    "    # def start(self):\n",
    "    #     return \"Bike starts\"\n",
    "    \n",
    "    def stop(self):\n",
    "        return \"Bike stop\"\n",
    "    \n",
    "bike = Bike()\n",
    "bike.start()"
   ]
  },
  {
   "cell_type": "markdown",
   "metadata": {},
   "source": [
    "# Class Methods vs Static Methods"
   ]
  },
  {
   "cell_type": "code",
   "execution_count": 33,
   "metadata": {},
   "outputs": [
    {
     "name": "stdout",
     "output_type": "stream",
     "text": [
      "5\n"
     ]
    },
    {
     "data": {
      "text/plain": [
       "6"
      ]
     },
     "execution_count": 33,
     "metadata": {},
     "output_type": "execute_result"
    }
   ],
   "source": [
    "class Person:\n",
    "    population = 0\n",
    "    \n",
    "    def __init__(self,name,age):\n",
    "        self.name = name\n",
    "        self.age = age\n",
    "        Person.population += 1\n",
    "        \n",
    "    @classmethod\n",
    "    def set_pop(self):\n",
    "        self.population= self.population+3 #2 + 3 =5 \n",
    "        return self.population\n",
    "    @classmethod\n",
    "    def get_pop(self):\n",
    "        return self.population\n",
    "    \n",
    "person1 = Person(\"Aaka\", 22)\n",
    "person2 = Person(\"Sanj\", 24)\n",
    "check_pop = Person.set_pop()\n",
    "person3 = Person(\"Ayus\", 24)\n",
    "print(check_pop)\n",
    "Person.get_pop()\n",
    "\n",
    "\n"
   ]
  },
  {
   "cell_type": "code",
   "execution_count": 8,
   "metadata": {},
   "outputs": [
    {
     "name": "stdout",
     "output_type": "stream",
     "text": [
      "0\n",
      "1\n",
      "2\n",
      "3\n",
      "4\n",
      "5\n",
      "6\n",
      "7\n",
      "8\n",
      "9\n",
      "data\n",
      "data\n"
     ]
    }
   ],
   "source": [
    "lst =[1,2,3,4,5]\n",
    "lst[1:4] # [2,3,4] \n",
    "for i in range(0,10): #10-1=9\n",
    "    print(i)\n",
    "    \n",
    "lst=[\"column\", \"data\", \"data\"]\n",
    "for i in lst[1:]:\n",
    "    print(i)"
   ]
  },
  {
   "cell_type": "code",
   "execution_count": null,
   "metadata": {},
   "outputs": [],
   "source": []
  }
 ],
 "metadata": {
  "kernelspec": {
   "display_name": "base",
   "language": "python",
   "name": "python3"
  },
  "language_info": {
   "codemirror_mode": {
    "name": "ipython",
    "version": 3
   },
   "file_extension": ".py",
   "mimetype": "text/x-python",
   "name": "python",
   "nbconvert_exporter": "python",
   "pygments_lexer": "ipython3",
   "version": "3.11.7"
  }
 },
 "nbformat": 4,
 "nbformat_minor": 2
}

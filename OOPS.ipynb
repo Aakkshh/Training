{
 "cells": [
  {
   "cell_type": "markdown",
   "metadata": {},
   "source": [
    "OOPS"
   ]
  },
  {
   "cell_type": "code",
   "execution_count": 8,
   "metadata": {},
   "outputs": [
    {
     "name": "stdout",
     "output_type": "stream",
     "text": [
      "Aakarshak\n"
     ]
    },
    {
     "data": {
      "text/plain": [
       "'My name is Aakarshak'"
      ]
     },
     "execution_count": 8,
     "metadata": {},
     "output_type": "execute_result"
    }
   ],
   "source": [
    "class Student: \n",
    "    def __init__(self, name, age, rollNo):\n",
    "        self.name = name\n",
    "        self.age = age\n",
    "        self.rollNo =rollNo\n",
    "    def name_Yourslef(self):\n",
    "        return \"My name is Aakarshak\"\n",
    "    \n",
    "student = Student(\"Aakarshak\", 22, 1)\n",
    "print(student.name)\n",
    "student.name_Yourslef()"
   ]
  },
  {
   "cell_type": "code",
   "execution_count": null,
   "metadata": {},
   "outputs": [],
   "source": []
  }
 ],
 "metadata": {
  "kernelspec": {
   "display_name": "base",
   "language": "python",
   "name": "python3"
  },
  "language_info": {
   "codemirror_mode": {
    "name": "ipython",
    "version": 3
   },
   "file_extension": ".py",
   "mimetype": "text/x-python",
   "name": "python",
   "nbconvert_exporter": "python",
   "pygments_lexer": "ipython3",
   "version": "3.11.7"
  }
 },
 "nbformat": 4,
 "nbformat_minor": 2
}

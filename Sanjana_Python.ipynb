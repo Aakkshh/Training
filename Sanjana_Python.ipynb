{
 "cells": [
  {
   "cell_type": "code",
   "execution_count": 1,
   "id": "5ad9a372",
   "metadata": {},
   "outputs": [
    {
     "name": "stdout",
     "output_type": "stream",
     "text": [
      "[11, 13, 17, 19, 23, 29]\n"
     ]
    }
   ],
   "source": [
    "def find_primes(start, end):\n",
    "    primes = []\n",
    "    for num in range(start, end + 1):\n",
    "        if num > 1:\n",
    "            for i in range(2, int(num ** 0.5) + 1):\n",
    "                if (num % i) == 0:\n",
    "                    break\n",
    "            else:\n",
    "                primes.append(num)\n",
    "    return primes\n",
    "\n",
    "\n",
    "start = 10\n",
    "end = 30\n",
    "print(find_primes(start, end))  \n"
   ]
  },
  {
   "cell_type": "code",
   "execution_count": 2,
   "id": "7fb9d633",
   "metadata": {},
   "outputs": [
    {
     "name": "stdout",
     "output_type": "stream",
     "text": [
      "[2, 3, 5, 7, 11]\n"
     ]
    }
   ],
   "source": [
    "def first_n_primes(n):\n",
    "    primes = []\n",
    "    num = 2\n",
    "    while len(primes) < n:\n",
    "        for i in range(2, int(num ** 0.5) + 1):\n",
    "            if (num % i) == 0:\n",
    "                break\n",
    "        else:\n",
    "            primes.append(num)\n",
    "        num += 1\n",
    "    return primes\n",
    "\n",
    "n = 5\n",
    "print(first_n_primes(n)) \n"
   ]
  },
  {
   "cell_type": "code",
   "execution_count": 28,
   "id": "a9171659",
   "metadata": {},
   "outputs": [
    {
     "name": "stdout",
     "output_type": "stream",
     "text": [
      "jumps\n"
     ]
    }
   ],
   "source": [
    "def longest_word(sentence):\n",
    "    words = sentence.split()\n",
    "    max_length = max(len(word) for word in words)\n",
    "    longest_words = [word for word in words if len(word) == max_length]\n",
    "    return longest_words[0]\n",
    "\n",
    "sentence = \"The fox jumps over the lazy dog\"\n",
    "print(longest_word(sentence))  \n"
   ]
  },
  {
   "cell_type": "code",
   "execution_count": 27,
   "id": "b8155128",
   "metadata": {},
   "outputs": [
    {
     "name": "stdout",
     "output_type": "stream",
     "text": [
      "True\n"
     ]
    }
   ],
   "source": [
    "def are_anagrams(str1, str2):\n",
    "    return sorted(str1) == sorted(str2)\n",
    "\n",
    "str1 = \"listen\"\n",
    "str2 = \"silent\"\n",
    "print(are_anagrams(str1, str2)) \n"
   ]
  },
  {
   "cell_type": "code",
   "execution_count": 6,
   "id": "6b971add",
   "metadata": {},
   "outputs": [
    {
     "name": "stdout",
     "output_type": "stream",
     "text": [
      "3\n"
     ]
    }
   ],
   "source": [
    "def count_true(lst):\n",
    "    return lst.count(True)\n",
    "\n",
    "lst = [True, False, True, True, False]\n",
    "print(count_true(lst))  \n"
   ]
  },
  {
   "cell_type": "code",
   "execution_count": 7,
   "id": "c943bb06",
   "metadata": {},
   "outputs": [
    {
     "name": "stdout",
     "output_type": "stream",
     "text": [
      "True\n"
     ]
    }
   ],
   "source": [
    "def evaluate_expression(expr):\n",
    "    return eval(expr)\n",
    "\n",
    "expr = \"True and False or True\"\n",
    "print(evaluate_expression(expr))\n"
   ]
  },
  {
   "cell_type": "code",
   "execution_count": 8,
   "id": "428fd51b",
   "metadata": {},
   "outputs": [
    {
     "name": "stdout",
     "output_type": "stream",
     "text": [
      "45\n"
     ]
    }
   ],
   "source": [
    "def second_largest(lst):\n",
    "    unique_lst = list(set(lst))\n",
    "    unique_lst.sort()\n",
    "    return unique_lst[-2]\n",
    "\n",
    "lst = [10, 20, 4, 45, 99]\n",
    "print(second_largest(lst)) \n"
   ]
  },
  {
   "cell_type": "code",
   "execution_count": 9,
   "id": "e01f7fae",
   "metadata": {},
   "outputs": [
    {
     "name": "stdout",
     "output_type": "stream",
     "text": [
      "[(1, 2, 3), (1, 3, 2), (2, 1, 3), (2, 3, 1), (3, 1, 2), (3, 2, 1)]\n"
     ]
    }
   ],
   "source": [
    "from itertools import permutations\n",
    "\n",
    "def all_permutations(lst):\n",
    "    return list(permutations(lst))\n",
    "\n",
    "lst = [1, 2, 3]\n",
    "print(all_permutations(lst))  \n"
   ]
  },
  {
   "cell_type": "code",
   "execution_count": 10,
   "id": "3780b07a",
   "metadata": {},
   "outputs": [
    {
     "name": "stdout",
     "output_type": "stream",
     "text": [
      "(1, 2, 3, 4, 5, 6)\n"
     ]
    }
   ],
   "source": [
    "def merge_tuples(tuple1, tuple2):\n",
    "    return tuple(sorted(tuple1 + tuple2))\n",
    "\n",
    "tuple1 = (1, 3, 5)\n",
    "tuple2 = (2, 4, 6)\n",
    "print(merge_tuples(tuple1, tuple2)) \n"
   ]
  },
  {
   "cell_type": "code",
   "execution_count": 11,
   "id": "7b83af3e",
   "metadata": {},
   "outputs": [
    {
     "name": "stdout",
     "output_type": "stream",
     "text": [
      "[(3, 7), (2, 3, 5)]\n"
     ]
    }
   ],
   "source": [
    "from itertools import combinations\n",
    "\n",
    "def unique_combinations(tup, target):\n",
    "    result = []\n",
    "    for i in range(1, len(tup) + 1):\n",
    "        for combo in combinations(tup, i):\n",
    "            if sum(combo) == target:\n",
    "                result.append(combo)\n",
    "    return result\n",
    "\n",
    "tup = (2, 3, 5, 7)\n",
    "target = 10\n",
    "print(unique_combinations(tup, target))\n"
   ]
  },
  {
   "cell_type": "code",
   "execution_count": 12,
   "id": "93191546",
   "metadata": {},
   "outputs": [
    {
     "name": "stdout",
     "output_type": "stream",
     "text": [
      "{1: 'a', 2: 'b', 3: 'c'}\n"
     ]
    }
   ],
   "source": [
    "def invert_dict(d):\n",
    "    return {v: k for k, v in d.items()}\n",
    "\n",
    "d = {'a': 1, 'b': 2, 'c': 3}\n",
    "print(invert_dict(d)) \n"
   ]
  },
  {
   "cell_type": "code",
   "execution_count": 13,
   "id": "2c159306",
   "metadata": {},
   "outputs": [
    {
     "name": "stdout",
     "output_type": "stream",
     "text": [
      "{'a': 1, 'b': 5, 'c': 4}\n"
     ]
    }
   ],
   "source": [
    "from collections import Counter\n",
    "\n",
    "def merge_dicts(*dicts):\n",
    "    result = Counter()\n",
    "    for d in dicts:\n",
    "        result.update(d)\n",
    "    return dict(result)\n",
    "\n",
    "dict1 = {'a': 1, 'b': 2}\n",
    "dict2 = {'b': 3, 'c': 4}\n",
    "print(merge_dicts(dict1, dict2)) \n"
   ]
  },
  {
   "cell_type": "code",
   "execution_count": 14,
   "id": "e8a547d6",
   "metadata": {},
   "outputs": [
    {
     "name": "stdout",
     "output_type": "stream",
     "text": [
      "{1, 2, 4, 5}\n"
     ]
    }
   ],
   "source": [
    "def symmetric_difference(set1, set2):\n",
    "    return set1.symmetric_difference(set2)\n",
    "\n",
    "set1 = {1, 2, 3}\n",
    "set2 = {3, 4, 5}\n",
    "print(symmetric_difference(set1, set2)) \n"
   ]
  },
  {
   "cell_type": "code",
   "execution_count": 15,
   "id": "35b1b787",
   "metadata": {},
   "outputs": [
    {
     "name": "stdout",
     "output_type": "stream",
     "text": [
      "[(), (1,), (2,), (3,), (1, 2), (1, 3), (2, 3), (1, 2, 3)]\n"
     ]
    }
   ],
   "source": [
    "from itertools import chain, combinations\n",
    "\n",
    "def all_subsets(s):\n",
    "    return list(chain.from_iterable(combinations(s, r) for r in range(len(s) + 1)))\n",
    "\n",
    "s = {1, 2, 3}\n",
    "print(all_subsets(s)) \n"
   ]
  },
  {
   "cell_type": "code",
   "execution_count": 16,
   "id": "d7b2aa02",
   "metadata": {},
   "outputs": [
    {
     "name": "stdout",
     "output_type": "stream",
     "text": [
      "Leap Year\n"
     ]
    }
   ],
   "source": [
    "def is_leap_year(year):\n",
    "    if (year % 4 == 0 and year % 100 != 0) or (year % 400 == 0):\n",
    "        return \"Leap Year\"\n",
    "    else:\n",
    "        return \"Non-Leap Year\"\n",
    "\n",
    "year = 2020\n",
    "print(is_leap_year(year))\n"
   ]
  },
  {
   "cell_type": "code",
   "execution_count": 17,
   "id": "39599fdc",
   "metadata": {},
   "outputs": [
    {
     "name": "stdout",
     "output_type": "stream",
     "text": [
      "Real roots: 2.0, 1.0\n"
     ]
    }
   ],
   "source": [
    "import cmath\n",
    "\n",
    "def solve_quadratic(a, b, c):\n",
    "    d = b**2 - 4*a*c\n",
    "    if d > 0:\n",
    "        root1 = (-b + cmath.sqrt(d)) / (2*a)\n",
    "        root2 = (-b - cmath.sqrt(d)) / (2*a)\n",
    "        return f\"Real roots: {root1.real}, {root2.real}\"\n",
    "    elif d == 0:\n",
    "        root = -b / (2*a)\n",
    "        return f\"Equal roots: {root}\"\n",
    "    else:\n",
    "        root1 = (-b + cmath.sqrt(d)) / (2*a)\n",
    "        root2 = (-b - cmath.sqrt(d)) / (2*a)\n",
    "        return f\"Complex roots: {root1}, {root2}\"\n",
    "\n",
    "a, b, c = 1, -3, 2\n",
    "print(solve_quadratic(a, b, c))\n"
   ]
  },
  {
   "cell_type": "code",
   "execution_count": 18,
   "id": "a1878776",
   "metadata": {},
   "outputs": [
    {
     "name": "stdout",
     "output_type": "stream",
     "text": [
      "[0, 1, 1, 2, 3]\n"
     ]
    }
   ],
   "source": [
    "def fibonacci_series(n):\n",
    "    fib_series = [0, 1]\n",
    "    for i in range(2, n):\n",
    "        fib_series.append(fib_series[-1] + fib_series[-2])\n",
    "    return fib_series[:n]\n",
    "\n",
    "terms = 5\n",
    "print(fibonacci_series(terms))  \n"
   ]
  },
  {
   "cell_type": "code",
   "execution_count": 20,
   "id": "f1138793",
   "metadata": {},
   "outputs": [
    {
     "name": "stdout",
     "output_type": "stream",
     "text": [
      "[10, 22, 33, 41, 60, 80]\n"
     ]
    }
   ],
   "source": [
    "def longest_increasing_subsequence(lst):\n",
    "    if not lst:\n",
    "        return []\n",
    "\n",
    "    lis = [1] * len(lst)\n",
    "    for i in range(1, len(lst)):\n",
    "        for j in range(i):\n",
    "            if lst[i] > lst[j]:\n",
    "                lis[i] = max(lis[i], lis[j] + 1)\n",
    "\n",
    "    max_len = max(lis)\n",
    "    subsequence = []\n",
    "    for i in range(len(lst) - 1, -1, -1):\n",
    "        if lis[i] == max_len:\n",
    "            subsequence.append(lst[i])\n",
    "            max_len -= 1\n",
    "\n",
    "    return subsequence[::-1]\n",
    "\n",
    "lst = [10, 22, 9, 33, 21, 50, 41, 60, 80]\n",
    "print(longest_increasing_subsequence(lst)) \n",
    "\n"
   ]
  },
  {
   "cell_type": "code",
   "execution_count": 21,
   "id": "4a7a8094",
   "metadata": {},
   "outputs": [
    {
     "name": "stdout",
     "output_type": "stream",
     "text": [
      "6\n"
     ]
    }
   ],
   "source": [
    "def gcd(num1, num2):\n",
    "    while num2:\n",
    "        num1, num2 = num2, num1 % num2\n",
    "    return num1\n",
    "\n",
    "num1 = 48\n",
    "num2 = 18\n",
    "print(gcd(num1, num2))  \n"
   ]
  },
  {
   "cell_type": "code",
   "execution_count": 22,
   "id": "8459f1e5",
   "metadata": {},
   "outputs": [
    {
     "name": "stdout",
     "output_type": "stream",
     "text": [
      "[13, 40, 20, 10, 5, 16, 8, 4, 2, 1]\n"
     ]
    }
   ],
   "source": [
    "def collatz_conjecture(n):\n",
    "    sequence = [n]\n",
    "    while n != 1:\n",
    "        if n % 2 == 0:\n",
    "            n = n // 2\n",
    "        else:\n",
    "            n = 3 * n + 1\n",
    "        sequence.append(n)\n",
    "    return sequence\n",
    "\n",
    "number = 13\n",
    "print(collatz_conjecture(number))  \n"
   ]
  }
 ],
 "metadata": {
  "kernelspec": {
   "display_name": "Python 3 (ipykernel)",
   "language": "python",
   "name": "python3"
  },
  "language_info": {
   "codemirror_mode": {
    "name": "ipython",
    "version": 3
   },
   "file_extension": ".py",
   "mimetype": "text/x-python",
   "name": "python",
   "nbconvert_exporter": "python",
   "pygments_lexer": "ipython3",
   "version": "3.11.4"
  }
 },
 "nbformat": 4,
 "nbformat_minor": 5
}
